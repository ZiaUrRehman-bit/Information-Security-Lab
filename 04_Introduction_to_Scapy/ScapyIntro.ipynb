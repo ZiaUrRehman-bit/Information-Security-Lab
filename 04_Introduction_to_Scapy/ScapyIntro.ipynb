{
 "cells": [
  {
   "cell_type": "markdown",
   "metadata": {},
   "source": [
    "# What is Scapy?\n",
    "\n",
    "Scapy is a powerful Python-based interactive packet manipulation library. It allows you to:\n",
    "\n",
    "- **Craft custom packets.**\n",
    "- **Decode packets from raw data.**\n",
    "- **Sniff network traffic.**\n",
    "- **Perform network scanning and discovery.**\n",
    "- **Build tools for network penetration testing and analysis.**\n",
    "\n",
    "Scapy supports various networking protocols such as **Ethernet**, **ARP**, **IP**, **TCP**, **UDP**, **ICMP**, **DNS**, and many others, making it a versatile tool for network engineers and security professionals.\n",
    "\n",
    "---\n",
    "\n",
    "## How Scapy Works\n",
    "\n",
    "Scapy operates at the **packet level**, meaning it can craft, send, receive, and manipulate packets in real time. It works with **raw sockets**, allowing interaction directly with network packets, bypassing the operating system's typical networking stack.\n",
    "\n",
    "---\n",
    "\n",
    "## Key Features of Scapy\n",
    "\n",
    "- **Packet Crafting**: Create custom packets with various protocols and layers.\n",
    "- **Packet Sniffing**: Capture and analyze packets in real time.\n",
    "- **Network Scanning**: Discover hosts and services on a network.\n",
    "- **Protocol Analysis**: Inspect packets for protocol-specific details.\n"
   ]
  },
  {
   "cell_type": "markdown",
   "metadata": {},
   "source": [
    "# Basic Functions in Scapy\n",
    "\n",
    "## 1. Creating a Packet\n",
    "\n",
    "Scapy makes it easy to create and manipulate packets by stacking layers. Here’s an example:\n"
   ]
  },
  {
   "cell_type": "markdown",
   "metadata": {},
   "source": [
    "## Purpose of the Code\n",
    "\n",
    "### Crafting Custom Packets\n",
    "\n",
    "- This code demonstrates creating a custom packet with specific IP and TCP configurations.\n",
    "- It allows users to define specific behaviors for network traffic, such as targeting a specific server or service.\n",
    "\n",
    "### Network Testing\n",
    "\n",
    "- Used for testing firewalls, intrusion detection systems, or network configurations.\n",
    "- For example, sending this packet to a server can help test whether the server responds to requests on port 80.\n",
    "\n",
    "### Security and Penetration Testing\n",
    "\n",
    "- Useful in crafting packets to simulate different attacks or detect vulnerabilities in network devices.\n",
    "\n",
    "### Learning Network Protocols\n",
    "\n",
    "- This code is excellent for understanding how the TCP/IP stack works by allowing users to manually craft and manipulate packets.\n",
    "___________________________________________________________________________________________________\n",
    "\n",
    "## How It Works\n",
    "\n",
    "### Encapsulation\n",
    "\n",
    "- Each layer of the TCP/IP model adds specific information to the packet (e.g., IP layer adds routing information, TCP adds transport information).\n",
    "- Using Scapy, layers are stacked together in the order: IP → TCP.\n",
    "\n",
    "### Packet Creation\n",
    "\n",
    "- By defining specific fields (e.g., `dst` in the IP layer, `dport` in the TCP layer), you specify the target device and service.\n",
    "\n",
    "### Packet Display\n",
    "\n",
    "- `show()` provides a snapshot of the packet's structure, showing how the layers are combined and their respective fields.\n",
    "___________________________________________________________________________________________________________________\n",
    "\n",
    "## Where It Can Be Used\n",
    "\n",
    "### Network Discovery\n",
    "\n",
    "- Craft packets to ping specific hosts or services to check if they are active.\n",
    "\n",
    "### Penetration Testing\n",
    "\n",
    "- Create custom packets for testing server responses to unusual or malformed traffic.\n",
    "\n",
    "### Firewall Testing\n",
    "\n",
    "- Ensure firewalls block or allow traffic based on defined rules.\n",
    "\n",
    "### Custom Protocol Development\n",
    "\n",
    "- Simulate and test custom network protocols or modifications to existing ones.\n",
    "____________________________________________________________________________________________________________________"
   ]
  },
  {
   "cell_type": "code",
   "execution_count": 1,
   "metadata": {},
   "outputs": [
    {
     "name": "stdout",
     "output_type": "stream",
     "text": [
      "###[ IP ]###\n",
      "  version   = 4\n",
      "  ihl       = None\n",
      "  tos       = 0x0\n",
      "  len       = None\n",
      "  id        = 1\n",
      "  flags     = \n",
      "  frag      = 0\n",
      "  ttl       = 64\n",
      "  proto     = tcp\n",
      "  chksum    = None\n",
      "  src       = 192.168.1.2\n",
      "  dst       = 192.168.1.1\n",
      "  \\options   \\\n",
      "###[ TCP ]###\n",
      "     sport     = ftp_data\n",
      "     dport     = http\n",
      "     seq       = 0\n",
      "     ack       = 0\n",
      "     dataofs   = None\n",
      "     reserved  = 0\n",
      "     flags     = S\n",
      "     window    = 8192\n",
      "     chksum    = None\n",
      "     urgptr    = 0\n",
      "     options   = []\n",
      "\n"
     ]
    }
   ],
   "source": [
    "from scapy.all import IP, TCP\n",
    "\n",
    "# Create an IP packet with a destination address\n",
    "ip_layer = IP(dst=\"192.168.1.1\")\n",
    "\n",
    "# Add a TCP layer with a destination port\n",
    "tcp_layer = TCP(dport=80)\n",
    "\n",
    "# Combine layers\n",
    "packet = ip_layer / tcp_layer\n",
    "\n",
    "# Display the packet details\n",
    "packet.show()\n"
   ]
  },
  {
   "cell_type": "markdown",
   "metadata": {},
   "source": [
    "# Ouput Explanation"
   ]
  },
  {
   "cell_type": "markdown",
   "metadata": {},
   "source": [
    "### IP Layer (IP)\n",
    "\n",
    "The IP layer is part of the Internet Protocol, which handles addressing and routing packets between devices on a network.\n",
    "\n",
    "- **version**: 4  \n",
    "  Indicates that this is an IPv4 packet.\n",
    "  \n",
    "- **ihl**: None  \n",
    "  The Internet Header Length (IHL) in 32-bit words. None means Scapy will calculate and set this automatically.\n",
    "  \n",
    "- **tos**: 0x0  \n",
    "  Type of Service (ToS), a field for setting packet priorities. 0x0 means default priority.\n",
    "  \n",
    "- **len**: None  \n",
    "  Total length of the IP packet. None means it will be calculated automatically.\n",
    "  \n",
    "- **id**: 1  \n",
    "  Identification number for the packet. Useful for reassembling fragmented packets.\n",
    "  \n",
    "- **flags**: (empty)  \n",
    "  IP fragmentation flags. No flags are set here.\n",
    "  \n",
    "- **frag**: 0  \n",
    "  Fragment offset. 0 indicates this is not a fragment.\n",
    "  \n",
    "- **ttl**: 64  \n",
    "  Time-to-Live (TTL), a hop limit for the packet to prevent it from circulating indefinitely in the network. A value of 64 is typical for many systems.\n",
    "  \n",
    "- **proto**: tcp  \n",
    "  Protocol used in the transport layer. tcp indicates this packet carries a TCP segment.\n",
    "  \n",
    "- **chksum**: None  \n",
    "  Checksum for the IP header. None means Scapy will calculate it automatically.\n",
    "  \n",
    "- **src**: 192.168.1.2  \n",
    "  Source IP address of the packet.\n",
    "  \n",
    "- **dst**: 192.168.1.1  \n",
    "  Destination IP address of the packet.\n",
    "  \n",
    "- **options**: (empty)  \n",
    "  Any additional options for the IP header. None are set here.\n",
    "______________________________________________________________________________________________________________"
   ]
  },
  {
   "cell_type": "markdown",
   "metadata": {},
   "source": [
    "### TCP Layer (TCP)\n",
    "\n",
    "The TCP layer specifies details of the Transmission Control Protocol, which manages connections and data exchange.\n",
    "\n",
    "- **sport**: ftp_data  \n",
    "  Source port for the packet. ftp_data is a symbolic name for port 20, typically used for FTP data transfer.\n",
    "  \n",
    "- **dport**: http  \n",
    "  Destination port for the packet. http is a symbolic name for port 80, used for web traffic.\n",
    "  \n",
    "- **seq**: 0  \n",
    "  Sequence number for the packet. Used to order segments in the TCP connection.\n",
    "  \n",
    "- **ack**: 0  \n",
    "  Acknowledgment number. This is 0, meaning no acknowledgment is being sent.\n",
    "  \n",
    "- **dataofs**: None  \n",
    "  Data offset (TCP header length) in 32-bit words. None means Scapy will calculate it automatically.\n",
    "  \n",
    "- **reserved**: 0  \n",
    "  Reserved field for future use. Always set to 0.\n",
    "  \n",
    "- **flags**: S  \n",
    "  TCP flags. S indicates a SYN (synchronize) flag, used to initiate a TCP handshake.\n",
    "  \n",
    "- **window**: 8192  \n",
    "  Window size, which specifies the amount of data the sender can receive without acknowledgment.\n",
    "  \n",
    "- **chksum**: None  \n",
    "  Checksum for the TCP header and payload. None means Scapy will calculate it automatically.\n",
    "  \n",
    "- **urgptr**: 0  \n",
    "  Urgent pointer, used to mark urgent data in the payload. Set to 0, indicating no urgent data.\n",
    "  \n",
    "- **options**: []  \n",
    "  Additional options for the TCP header. No options are set here.\n",
    "____________________________________________________________________________________________________________________________"
   ]
  },
  {
   "cell_type": "markdown",
   "metadata": {},
   "source": [
    "### Explanation of the Packet\n",
    "\n",
    "This packet is a SYN packet, commonly used to initiate a TCP handshake. Here's what this packet does:\n",
    "\n",
    "- **Source and Destination**:  \n",
    "  It originates from 192.168.1.2 and targets 192.168.1.1.\n",
    "  \n",
    "- **Ports**:  \n",
    "  It uses FTP data port (20) as the source and HTTP port (80) as the destination, indicating a request to establish a connection to a web server.\n",
    "  \n",
    "- **Purpose**:  \n",
    "  The SYN flag signals the start of a connection. It is part of the TCP handshake process:  \n",
    "  `SYN → SYN-ACK → ACK`.\n",
    "________________________________________________________________________________________________________"
   ]
  },
  {
   "cell_type": "markdown",
   "metadata": {},
   "source": [
    "### Where This Output Can Be Used\n",
    "\n",
    "1. **Network Testing**:  \n",
    "   You can use this output to verify the TCP handshake initiation process. By observing the SYN packet and analyzing the sequence and acknowledgment numbers, you can confirm that the connection establishment process is functioning correctly.\n",
    "\n",
    "2. **Security Analysis**:  \n",
    "   This output can be used to simulate traffic for penetration testing or firewall testing. By understanding how SYN packets are used in establishing TCP connections, security analysts can test firewall rules, detect vulnerabilities, and assess how security mechanisms respond to SYN flood attacks and other network security scenarios.\n",
    "\n",
    "3. **Protocol Learning**:  \n",
    "   Analyzing this output helps understand how TCP/IP headers are structured and operate. It provides insight into the process of initiating connections, packet sequencing, acknowledgment, and the overall behavior of TCP connections across a network.\n",
    "___________________________________________________________________________________________________________________________"
   ]
  },
  {
   "cell_type": "markdown",
   "metadata": {},
   "source": [
    "### 2. Sending Packets\n",
    "\n",
    "You can send packets using different methods, such as:\n",
    "\n",
    "- **send()**: For sending packets at the network layer (e.g., IP).\n"
   ]
  },
  {
   "cell_type": "code",
   "execution_count": 2,
   "metadata": {},
   "outputs": [
    {
     "name": "stderr",
     "output_type": "stream",
     "text": [
      "WARNING: MAC address to reach destination not found. Using broadcast.\n"
     ]
    },
    {
     "name": "stdout",
     "output_type": "stream",
     "text": [
      "\n",
      "Sent 1 packets.\n"
     ]
    }
   ],
   "source": [
    "from scapy.all import send\n",
    "\n",
    "# Send a crafted IP packet\n",
    "send(IP(dst=\"192.168.1.1\") / TCP(dport=80, flags=\"S\"))\n"
   ]
  },
  {
   "cell_type": "code",
   "execution_count": 3,
   "metadata": {},
   "outputs": [
    {
     "name": "stdout",
     "output_type": "stream",
     "text": [
      "\n",
      "Sent 1 packets.\n"
     ]
    }
   ],
   "source": [
    "from scapy.all import sendp, Ether, IP, TCP\n",
    "\n",
    "# Send a crafted Ethernet frame with an IP packet inside\n",
    "sendp(Ether(dst=\"00:11:22:33:44:55\") / IP(dst=\"192.168.1.1\") / TCP(dport=80, flags=\"S\"))"
   ]
  },
  {
   "cell_type": "markdown",
   "metadata": {},
   "source": [
    "- **Ether(dst=\"00:11:22:33:44:55\")**: This specifies the Ethernet layer, where `dst=\"00:11:22:33:44:55\"` defines the destination MAC address.\n",
    "- **IP(dst=\"192.168.1.1\")**: This adds the IP layer, specifying the destination IP address.\n",
    "- **TCP(dport=80, flags=\"S\")**: This adds the TCP layer with the destination port 80 and SYN flag.\n",
    "- **sendp()**: This sends the Ethernet frame directly at the data link layer.\n"
   ]
  },
  {
   "cell_type": "markdown",
   "metadata": {},
   "source": [
    "### 3. Sniffing Packets\n",
    "Sniffing lets you capture and inspect packets on the network interface."
   ]
  },
  {
   "cell_type": "code",
   "execution_count": 6,
   "metadata": {},
   "outputs": [
    {
     "name": "stdout",
     "output_type": "stream",
     "text": [
      "802.3 ec:cd:6d:94:fe:19 > 01:80:c2:00:00:00 / LLC / STP / Raw / Padding\n",
      "Ether / fe80::3c57:f5e:96c6:3d47 > ff02::16 (0) / IPv6ExtHdrHopByHop / ICMPv6MLReport2 / Padding\n",
      "Ether / 10.0.0.41 > 224.0.0.252 2 / Raw / Padding\n",
      "Ether / IP / UDP / NBNSHeader / NBNSQueryRequest who has '\\\\WORKGROUP'\n",
      "Ether / IP / UDP / BOOTP / DHCP Discover\n",
      "Ether / IP / UDP / BOOTP / DHCP Discover\n",
      "Ether / IP / UDP / mDNS Qry b'HPA9C984.local.'\n",
      "Ether / IP / UDP / mDNS Ans / Padding\n",
      "Ether / IPv6 / UDP / mDNS Qry b'HPA9C984.local.'\n",
      "Ether / IP / UDP / mDNS Ans / Padding\n"
     ]
    },
    {
     "data": {
      "text/plain": [
       "<Sniffed: TCP:0 UDP:7 ICMP:0 Other:3>"
      ]
     },
     "execution_count": 6,
     "metadata": {},
     "output_type": "execute_result"
    }
   ],
   "source": [
    "from scapy.all import sniff\n",
    "\n",
    "# Sniff 10 packets and print a summary of each\n",
    "sniff(count=10, prn=lambda packet: packet.summary())\n"
   ]
  },
  {
   "cell_type": "markdown",
   "metadata": {},
   "source": [
    "### 4. Scanning a Network\n",
    "Discover active hosts using ARP requests."
   ]
  },
  {
   "cell_type": "code",
   "execution_count": null,
   "metadata": {},
   "outputs": [
    {
     "name": "stdout",
     "output_type": "stream",
     "text": [
      "Host: 192.168.1.1, MAC: d0:0f:6d:fd:e8:d0\n",
      "Host: 192.168.1.5, MAC: 00:22:0c:18:de:40\n"
     ]
    }
   ],
   "source": [
    "from scapy.all import ARP, Ether, srp\n",
    "\n",
    "# Create an ARP request\n",
    "arp_request = ARP(pdst=\"172.16.10.1/24\")\n",
    "ethernet_frame = Ether(dst=\"ff:ff:ff:ff:ff:ff\") / arp_request\n",
    "\n",
    "# Send the request and capture responses\n",
    "answered, _ = srp(ethernet_frame, timeout=2, verbose=0)\n",
    "\n",
    "# Print the list of discovered hosts\n",
    "for sent, received in answered:\n",
    "    print(f\"Host: {received.psrc}, MAC: {received.hwsrc}\")\n"
   ]
  },
  {
   "cell_type": "code",
   "execution_count": 8,
   "metadata": {},
   "outputs": [
    {
     "name": "stdout",
     "output_type": "stream",
     "text": [
      "###[ IP ]###\n",
      "  version   = 4\n",
      "  ihl       = None\n",
      "  tos       = 0x0\n",
      "  len       = None\n",
      "  id        = 1\n",
      "  flags     = \n",
      "  frag      = 0\n",
      "  ttl       = 64\n",
      "  proto     = ip\n",
      "  chksum    = None\n",
      "  src       = 10.0.0.1\n",
      "  dst       = 10.0.0.2\n",
      "  \\options   \\\n",
      "\n"
     ]
    }
   ],
   "source": [
    "from scapy.all import IP\n",
    "\n",
    "# Create an IP packet\n",
    "packet = IP()\n",
    "\n",
    "# Modify fields\n",
    "packet.src = \"10.0.0.1\"\n",
    "packet.dst = \"10.0.0.2\"\n",
    "packet.ttl = 64\n",
    "\n",
    "# Display modified packet\n",
    "packet.show()\n"
   ]
  },
  {
   "cell_type": "code",
   "execution_count": 3,
   "metadata": {},
   "outputs": [
    {
     "name": "stdout",
     "output_type": "stream",
     "text": [
      "\n",
      "Received 47 packets, got 29 answers, remaining 1 packets\n",
      "   142.250.181.100:tcp80 \n",
      "1  172.16.10.1     11    \n",
      "2  192.168.1.1     11    \n",
      "4  10.0.0.81       11    \n",
      "5  10.253.12.18    11    \n",
      "6  10.253.4.38     11    \n",
      "7  10.253.4.6      11    \n",
      "8  72.14.211.72    11    \n",
      "9  216.239.41.109  11    \n",
      "10 192.178.105.70  11    \n",
      "11 142.251.77.204  11    \n",
      "12 192.178.98.163  11    \n",
      "13 172.253.66.41   11    \n",
      "14 142.250.181.100 SA    \n",
      "15 142.250.181.100 SA    \n",
      "16 142.250.181.100 SA    \n",
      "17 142.250.181.100 SA    \n",
      "18 142.250.181.100 SA    \n",
      "19 142.250.181.100 SA    \n",
      "20 142.250.181.100 SA    \n",
      "21 142.250.181.100 SA    \n",
      "22 142.250.181.100 SA    \n",
      "23 142.250.181.100 SA    \n",
      "24 142.250.181.100 SA    \n",
      "25 142.250.181.100 SA    \n",
      "26 142.250.181.100 SA    \n",
      "27 142.250.181.100 SA    \n",
      "28 142.250.181.100 SA    \n",
      "29 142.250.181.100 SA    \n",
      "30 142.250.181.100 SA    \n"
     ]
    },
    {
     "data": {
      "text/plain": [
       "(<Traceroute: TCP:17 UDP:0 ICMP:12 Other:0>,\n",
       " <Unanswered: TCP:1 UDP:0 ICMP:0 Other:0>)"
      ]
     },
     "execution_count": 3,
     "metadata": {},
     "output_type": "execute_result"
    }
   ],
   "source": [
    "from scapy.all import traceroute\n",
    "\n",
    "# Perform traceroute to a target\n",
    "traceroute([\"www.google.com\"])\n"
   ]
  },
  {
   "cell_type": "code",
   "execution_count": 2,
   "metadata": {},
   "outputs": [
    {
     "name": "stdout",
     "output_type": "stream",
     "text": [
      "Collecting scapy\n",
      "  Downloading scapy-2.6.1-py3-none-any.whl.metadata (5.6 kB)\n",
      "Downloading scapy-2.6.1-py3-none-any.whl (2.4 MB)\n",
      "   ---------------------------------------- 0.0/2.4 MB ? eta -:--:--\n",
      "   -------- ------------------------------- 0.5/2.4 MB 5.6 MB/s eta 0:00:01\n",
      "   ------------------------- -------------- 1.6/2.4 MB 4.2 MB/s eta 0:00:01\n",
      "   ---------------------------------------- 2.4/2.4 MB 4.8 MB/s eta 0:00:00\n",
      "Installing collected packages: scapy\n",
      "Successfully installed scapy-2.6.1\n"
     ]
    }
   ],
   "source": [
    "!pip install scapy"
   ]
  },
  {
   "cell_type": "code",
   "execution_count": null,
   "metadata": {},
   "outputs": [],
   "source": []
  }
 ],
 "metadata": {
  "kernelspec": {
   "display_name": "Python 3",
   "language": "python",
   "name": "python3"
  },
  "language_info": {
   "codemirror_mode": {
    "name": "ipython",
    "version": 3
   },
   "file_extension": ".py",
   "mimetype": "text/x-python",
   "name": "python",
   "nbconvert_exporter": "python",
   "pygments_lexer": "ipython3",
   "version": "3.11.4"
  }
 },
 "nbformat": 4,
 "nbformat_minor": 2
}
