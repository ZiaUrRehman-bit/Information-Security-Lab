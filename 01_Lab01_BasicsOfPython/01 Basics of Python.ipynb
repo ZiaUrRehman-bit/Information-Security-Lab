{
 "cells": [
  {
   "cell_type": "markdown",
   "metadata": {},
   "source": [
    "# <Center>Basics of Python</center>\n",
    "## <Center>(Strings, Input Statement, Decision Making Statements, List, Dictionaries, Loops, Functions, Lambda Function etc.)</center>"
   ]
  },
  {
   "cell_type": "markdown",
   "metadata": {},
   "source": [
    "### Example 01:  Variables\n",
    "- Create variable of all types, print values and types of all variables."
   ]
  },
  {
   "cell_type": "code",
   "execution_count": 1,
   "metadata": {},
   "outputs": [
    {
     "name": "stdout",
     "output_type": "stream",
     "text": [
      "The data type of i is  <class 'int'>\n"
     ]
    }
   ],
   "source": [
    "i = 10\n",
    "print(\"The data type of i is \", type(i))"
   ]
  },
  {
   "cell_type": "code",
   "execution_count": 2,
   "metadata": {},
   "outputs": [
    {
     "name": "stdout",
     "output_type": "stream",
     "text": [
      "The data type of x is  <class 'str'>\n"
     ]
    }
   ],
   "source": [
    "x = 'abc'\n",
    "print(\"The data type of x is \", type(x))"
   ]
  },
  {
   "cell_type": "code",
   "execution_count": 3,
   "metadata": {},
   "outputs": [
    {
     "name": "stdout",
     "output_type": "stream",
     "text": [
      "The data type of z is  <class 'complex'>\n"
     ]
    }
   ],
   "source": [
    "z = 2+3j\n",
    "print(\"The data type of z is \", type(z))"
   ]
  },
  {
   "cell_type": "code",
   "execution_count": 4,
   "metadata": {},
   "outputs": [
    {
     "name": "stdout",
     "output_type": "stream",
     "text": [
      "The data type of j is  <class 'float'>\n"
     ]
    }
   ],
   "source": [
    "j = 0.9\n",
    "print(\"The data type of j is \", type(j))"
   ]
  },
  {
   "cell_type": "code",
   "execution_count": 5,
   "metadata": {},
   "outputs": [
    {
     "name": "stdout",
     "output_type": "stream",
     "text": [
      "The data type of check is  <class 'bool'>\n"
     ]
    }
   ],
   "source": [
    "check = True\n",
    "print(\"The data type of check is \", type(check))"
   ]
  },
  {
   "cell_type": "markdown",
   "metadata": {},
   "source": [
    "### Example 02: Input Function\n",
    "- Take input from user(two numbers) and perfrom all arithmetic and logical operations on it and print results."
   ]
  },
  {
   "cell_type": "code",
   "execution_count": 7,
   "metadata": {},
   "outputs": [
    {
     "data": {
      "text/plain": [
       "'3'"
      ]
     },
     "execution_count": 7,
     "metadata": {},
     "output_type": "execute_result"
    }
   ],
   "source": [
    "num1 = input(\"Enter 1st Number = \")\n",
    "num1"
   ]
  },
  {
   "cell_type": "markdown",
   "metadata": {},
   "source": [
    "\"input\" function always takes input in string data type, So we have to convert it into integer data type to perform arithmetic operations"
   ]
  },
  {
   "cell_type": "code",
   "execution_count": 8,
   "metadata": {},
   "outputs": [
    {
     "data": {
      "text/plain": [
       "3"
      ]
     },
     "execution_count": 8,
     "metadata": {},
     "output_type": "execute_result"
    }
   ],
   "source": [
    "num1 = int(num1)\n",
    "num1"
   ]
  },
  {
   "cell_type": "code",
   "execution_count": 9,
   "metadata": {},
   "outputs": [
    {
     "data": {
      "text/plain": [
       "2"
      ]
     },
     "execution_count": 9,
     "metadata": {},
     "output_type": "execute_result"
    }
   ],
   "source": [
    "num2 = int(input(\"Enter 2nd Number = \"))\n",
    "num2"
   ]
  },
  {
   "cell_type": "markdown",
   "metadata": {},
   "source": [
    "#### Addition"
   ]
  },
  {
   "cell_type": "code",
   "execution_count": 11,
   "metadata": {},
   "outputs": [
    {
     "data": {
      "text/plain": [
       "5"
      ]
     },
     "execution_count": 11,
     "metadata": {},
     "output_type": "execute_result"
    }
   ],
   "source": [
    "add = num1 + num2\n",
    "add"
   ]
  },
  {
   "cell_type": "markdown",
   "metadata": {},
   "source": [
    "#### Subtraction "
   ]
  },
  {
   "cell_type": "code",
   "execution_count": 12,
   "metadata": {},
   "outputs": [
    {
     "data": {
      "text/plain": [
       "1"
      ]
     },
     "execution_count": 12,
     "metadata": {},
     "output_type": "execute_result"
    }
   ],
   "source": [
    "Sub = num1 - num2\n",
    "Sub"
   ]
  },
  {
   "cell_type": "markdown",
   "metadata": {},
   "source": [
    "#### Multiplication "
   ]
  },
  {
   "cell_type": "code",
   "execution_count": 13,
   "metadata": {},
   "outputs": [
    {
     "data": {
      "text/plain": [
       "6"
      ]
     },
     "execution_count": 13,
     "metadata": {},
     "output_type": "execute_result"
    }
   ],
   "source": [
    "Mul = num1 * num2\n",
    "Mul"
   ]
  },
  {
   "cell_type": "markdown",
   "metadata": {},
   "source": [
    "#### Division "
   ]
  },
  {
   "cell_type": "code",
   "execution_count": 14,
   "metadata": {},
   "outputs": [
    {
     "data": {
      "text/plain": [
       "1.5"
      ]
     },
     "execution_count": 14,
     "metadata": {},
     "output_type": "execute_result"
    }
   ],
   "source": [
    "Div = num1 / num2\n",
    "Div"
   ]
  },
  {
   "cell_type": "markdown",
   "metadata": {},
   "source": [
    "#### Mod"
   ]
  },
  {
   "cell_type": "code",
   "execution_count": 16,
   "metadata": {},
   "outputs": [
    {
     "data": {
      "text/plain": [
       "1"
      ]
     },
     "execution_count": 16,
     "metadata": {},
     "output_type": "execute_result"
    }
   ],
   "source": [
    "Mod = num1%num2\n",
    "Mod"
   ]
  },
  {
   "cell_type": "markdown",
   "metadata": {},
   "source": [
    "#### Exponent"
   ]
  },
  {
   "cell_type": "code",
   "execution_count": 19,
   "metadata": {},
   "outputs": [
    {
     "data": {
      "text/plain": [
       "9"
      ]
     },
     "execution_count": 19,
     "metadata": {},
     "output_type": "execute_result"
    }
   ],
   "source": [
    "exp = num1**num2\n",
    "exp"
   ]
  },
  {
   "cell_type": "code",
   "execution_count": 1,
   "metadata": {},
   "outputs": [
    {
     "name": "stdout",
     "output_type": "stream",
     "text": [
      "The addition of numbers is  7\n",
      "The subtraction of numbers is  -1\n",
      "The multiplication of numbers is  12\n",
      "The division of numbers is  0.75\n",
      "The modulus of numbers is  3\n",
      "The exponent of numbers is  81\n",
      "The AND of numbers is  4\n",
      "The OR of numbers is  3\n",
      "The NOT of numbers is  False\n"
     ]
    }
   ],
   "source": [
    "x1 = input('Enter 1st number = ')\n",
    "y1 = input('Enter 2nd number = ')\n",
    "x=int(x1)\n",
    "y=int(y1)\n",
    "add=x+y\n",
    "sub=x-y\n",
    "mul=x*y\n",
    "div=x/y\n",
    "mod=x%y\n",
    "exp=x**y\n",
    "a=x and y\n",
    "b=x or y\n",
    "c=not x \n",
    "#print\n",
    "print(\"The addition of numbers is \",add) \n",
    "print(\"The subtraction of numbers is \", sub) \n",
    "print(\"The multiplication of numbers is \",mul) \n",
    "print(\"The division of numbers is \",div) \n",
    "print(\"The modulus of numbers is \", mod) \n",
    "print(\"The exponent of numbers is \",exp) \n",
    "print(\"The AND of numbers is \",a) \n",
    "print(\"The OR of numbers is \",b)\n",
    "print(\"The NOT of numbers is \",c)"
   ]
  },
  {
   "cell_type": "code",
   "execution_count": null,
   "metadata": {},
   "outputs": [],
   "source": []
  },
  {
   "cell_type": "markdown",
   "metadata": {},
   "source": [
    "### Example 03: String\n",
    "Take a string (a long Statement) from user\n",
    "- Find the length of the string\n",
    "- Display the first and last character of the string\n",
    "- Capitalize all alphabets\n",
    "- Split string in to words (split using ‘ ’)\n",
    "- count the occurrence of an Alphabet (i.e : a)\n",
    "- replace the second word of a string with ‘Artificial’\n",
    "- reverse the complete string \n"
   ]
  },
  {
   "cell_type": "code",
   "execution_count": 2,
   "metadata": {},
   "outputs": [],
   "source": [
    "longStr=input(\"Enter a long string : \")"
   ]
  },
  {
   "cell_type": "code",
   "execution_count": 3,
   "metadata": {},
   "outputs": [
    {
     "data": {
      "text/plain": [
       "'Hi, My Name is Engr. Zia Ur Rehman. I am Lab engineer in Computer Engineering department of KICSIT.'"
      ]
     },
     "execution_count": 3,
     "metadata": {},
     "output_type": "execute_result"
    }
   ],
   "source": [
    "longStr"
   ]
  },
  {
   "cell_type": "code",
   "execution_count": 7,
   "metadata": {},
   "outputs": [
    {
     "name": "stdout",
     "output_type": "stream",
     "text": [
      "The length of given string is 99 includig spaces.\n"
     ]
    }
   ],
   "source": [
    "print(f\"The length of given string is {len(longStr)} includig spaces.\")"
   ]
  },
  {
   "cell_type": "code",
   "execution_count": 8,
   "metadata": {},
   "outputs": [
    {
     "name": "stdout",
     "output_type": "stream",
     "text": [
      "The first character of the given string is  H\n"
     ]
    }
   ],
   "source": [
    "print(\"The first character of the given string is \", longStr[0])"
   ]
  },
  {
   "cell_type": "code",
   "execution_count": 9,
   "metadata": {},
   "outputs": [
    {
     "name": "stdout",
     "output_type": "stream",
     "text": [
      "The last character of the given string is .\n"
     ]
    }
   ],
   "source": [
    "print(f\"The last character of the given string is {longStr[-1]}\")"
   ]
  },
  {
   "cell_type": "code",
   "execution_count": 10,
   "metadata": {},
   "outputs": [
    {
     "name": "stdout",
     "output_type": "stream",
     "text": [
      "The given string in upper case : \n",
      " HI, MY NAME IS ENGR. ZIA UR REHMAN. I AM LAB ENGINEER IN COMPUTER ENGINEERING DEPARTMENT OF KICSIT.\n"
     ]
    }
   ],
   "source": [
    "print(f\"The given string in upper case : \\n {longStr.upper()}\")"
   ]
  },
  {
   "cell_type": "code",
   "execution_count": 12,
   "metadata": {},
   "outputs": [
    {
     "name": "stdout",
     "output_type": "stream",
     "text": [
      "The splited string : \n",
      " ['Hi,', 'My', 'Name', 'is', 'Engr.', 'Zia', 'Ur', 'Rehman.', 'I', 'am', 'Lab', 'engineer', 'in', 'Computer', 'Engineering', 'department', 'of', 'KICSIT.']\n"
     ]
    }
   ],
   "source": [
    "print(f\"The splited string : \\n {longStr.split(' ')}\") "
   ]
  },
  {
   "cell_type": "code",
   "execution_count": 14,
   "metadata": {},
   "outputs": [
    {
     "name": "stdout",
     "output_type": "stream",
     "text": [
      "In the given string 'a' has occured : 6 \n"
     ]
    }
   ],
   "source": [
    "print(f\"In the given string 'a' has occured : {longStr.count('a')} \")"
   ]
  },
  {
   "cell_type": "code",
   "execution_count": null,
   "metadata": {},
   "outputs": [],
   "source": [
    "print(\"The replaced string is up: \",str.replace('!!!','Artifical'))"
   ]
  },
  {
   "cell_type": "code",
   "execution_count": 15,
   "metadata": {},
   "outputs": [
    {
     "name": "stdout",
     "output_type": "stream",
     "text": [
      "The reversed string is : .TISCIK fo tnemtraped gnireenignE retupmoC ni reenigne baL ma I .namheR rU aiZ .rgnE si emaN yM ,iH\n"
     ]
    }
   ],
   "source": [
    "print(f\"The reversed string is : {longStr[::-1]}\")"
   ]
  },
  {
   "cell_type": "markdown",
   "metadata": {},
   "source": []
  },
  {
   "cell_type": "markdown",
   "metadata": {},
   "source": [
    "### Example 04: Single Line Input in Python\n",
    "- Take three integer input from user in a single line and find the average \n"
   ]
  },
  {
   "cell_type": "code",
   "execution_count": 2,
   "metadata": {},
   "outputs": [
    {
     "name": "stdout",
     "output_type": "stream",
     "text": [
      "The average of the numbers entered is =  3.3333333333333335\n"
     ]
    }
   ],
   "source": [
    "x, y, z=input('Enter three numbers with spaces to distinguish them = ').split(' ')\n",
    "x1 = int(x)\n",
    "x2 = int(y)\n",
    "x3 = int(z)\n",
    "\n",
    "avg=(x1+x2+x3)/3\n",
    "print(\"The average of the numbers entered is = \", avg)"
   ]
  },
  {
   "cell_type": "markdown",
   "metadata": {},
   "source": [
    "### Example 05: List\n",
    "A list is a data structure in Python that is a ```mutable```, or changeable, ordered sequence of elements. Each element or value that is inside of a list is called an item. Just as strings are defined as characters between quotes, lists are defined by having values between square brackets [ ] .\n",
    "    \n",
    "    mutable refers to an object whose value can be changed after it is created. This means that you can modify the object’s internal data or attributes without creating a new object.\n",
    "    \n",
    "- Create a list of 10 values \n",
    "- Display the elements of a list\n",
    "- Update the value of 3rd index\n",
    "- Reverse the list\n",
    "- Add 2 more elements in 2nd index and print list\n",
    "- Pop element of 1 index and display list\n"
   ]
  },
  {
   "cell_type": "code",
   "execution_count": 4,
   "metadata": {},
   "outputs": [
    {
     "data": {
      "text/plain": [
       "[1, 2, 'A', 'Aqsa', 3, 4, 'E', 'Esha', 'Ayesha', 'Ayra']"
      ]
     },
     "execution_count": 4,
     "metadata": {},
     "output_type": "execute_result"
    }
   ],
   "source": [
    "list=[1,2, 'A', 'Aqsa',3,4, 'E', 'Esha', 'Ayesha', 'Ayra']\n",
    "list"
   ]
  },
  {
   "cell_type": "code",
   "execution_count": 5,
   "metadata": {},
   "outputs": [
    {
     "name": "stdout",
     "output_type": "stream",
     "text": [
      "The updated list with element of 3rd index =  [1, 2, 'B', 'Aqsa', 3, 4, 'E', 'Esha', 'Ayesha', 'Ayra']\n"
     ]
    }
   ],
   "source": [
    "list[2]='B'\n",
    "\n",
    "print(\"The updated list with element of 3rd index = \",list)"
   ]
  },
  {
   "cell_type": "code",
   "execution_count": 6,
   "metadata": {},
   "outputs": [
    {
     "name": "stdout",
     "output_type": "stream",
     "text": [
      "The reversed list is : ['Ayra', 'Ayesha', 'Esha', 'E', 4, 3, 'Aqsa', 'B', 2, 1]\n"
     ]
    }
   ],
   "source": [
    "print(\"The reversed list is :\",list[::-1])"
   ]
  },
  {
   "cell_type": "code",
   "execution_count": 8,
   "metadata": {},
   "outputs": [
    {
     "name": "stdout",
     "output_type": "stream",
     "text": [
      "The list after inserting elements of 2nd index is : [1, 66, 45, 66, 45, 2, 'B', 'Aqsa', 3, 4, 'E', 'Esha', 'Ayesha', 'Ayra']\n"
     ]
    }
   ],
   "source": [
    "list.insert(1,45)\n",
    "\n",
    "list.insert(1,66)\n",
    "\n",
    "print(\"The list after inserting elements of 2nd index is :\",list)"
   ]
  },
  {
   "cell_type": "code",
   "execution_count": 9,
   "metadata": {},
   "outputs": [
    {
     "name": "stdout",
     "output_type": "stream",
     "text": [
      "The list after popping element of 1st index is : [66, 45, 66, 45, 2, 'B', 'Aqsa', 3, 4, 'E', 'Esha', 'Ayesha', 'Ayra']\n"
     ]
    }
   ],
   "source": [
    "list.pop(0)\n",
    "\n",
    "print(\"The list after popping element of 1st index is :\", list)"
   ]
  },
  {
   "cell_type": "markdown",
   "metadata": {},
   "source": []
  },
  {
   "cell_type": "markdown",
   "metadata": {},
   "source": [
    "### Example 06: Dictionary\n",
    "A dictionary in Python is a collection of key-value pairs. It is an unordered, mutable, and indexed data structure. Each key in a dictionary must be unique and immutable, while the corresponding value can be of any data type, including another dictionary.\n",
    "- Create dictionary \n",
    "- Display dictionary\n",
    "- Print keys and value separately\n",
    "- Insert new key-value pair \n",
    "- Copy dictionary into new dictionary  \n"
   ]
  },
  {
   "cell_type": "code",
   "execution_count": 1,
   "metadata": {},
   "outputs": [],
   "source": [
    "mydict={ \"Artifical\" : \"made or produced by human beings rather than occurring naturally, especially as a copy of something\",\n",
    "        \"Intelligence\" : \"the ability to acquire and apply knowledge and skills.\",\n",
    "        2021: \"The current year\"}"
   ]
  },
  {
   "cell_type": "code",
   "execution_count": 2,
   "metadata": {},
   "outputs": [
    {
     "data": {
      "text/plain": [
       "{'Artifical': 'made or produced by human beings rather than occurring naturally, especially as a copy of something',\n",
       " 'Intelligence': 'the ability to acquire and apply knowledge and skills.',\n",
       " 2021: 'The current year'}"
      ]
     },
     "execution_count": 2,
     "metadata": {},
     "output_type": "execute_result"
    }
   ],
   "source": [
    "mydict"
   ]
  },
  {
   "cell_type": "code",
   "execution_count": 3,
   "metadata": {},
   "outputs": [
    {
     "name": "stdout",
     "output_type": "stream",
     "text": [
      "The keys in the given Dictionary are \n",
      " dict_keys(['Artifical', 'Intelligence', 2021])\n"
     ]
    }
   ],
   "source": [
    "print(f\"The keys in the given Dictionary are \\n {mydict.keys()}\")"
   ]
  },
  {
   "cell_type": "code",
   "execution_count": 4,
   "metadata": {},
   "outputs": [
    {
     "name": "stdout",
     "output_type": "stream",
     "text": [
      "The values in the given Dictionary are \n",
      " dict_values(['made or produced by human beings rather than occurring naturally, especially as a copy of something', 'the ability to acquire and apply knowledge and skills.', 'The current year'])\n"
     ]
    }
   ],
   "source": [
    "print(f\"The values in the given Dictionary are \\n {mydict.values()}\")"
   ]
  },
  {
   "cell_type": "code",
   "execution_count": 5,
   "metadata": {},
   "outputs": [
    {
     "name": "stdout",
     "output_type": "stream",
     "text": [
      "The original dictionary is\n",
      "\n",
      " {'Artifical': 'made or produced by human beings rather than occurring naturally, especially as a copy of something', 'Intelligence': 'the ability to acquire and apply knowledge and skills.', 2021: 'The current year'}\n",
      "\n",
      " Inserting new key pair in dictionary \n",
      "\n",
      "Updated Dictionary is \n",
      "\n",
      "{'Artifical': 'made or produced by human beings rather than occurring naturally, especially as a copy of something', 'Intelligence': 'the ability to acquire and apply knowledge and skills.', 2021: 'The current year', 'Ali': 'Height/limit/shore/Remote/Farthest', 'laboratory': 'a room or building equipped for scientific experiments, research, or teaching, or for the manufacture of drugs or chemicals'}\n"
     ]
    }
   ],
   "source": [
    "print(\"The original dictionary is\\n\\n\", mydict)\n",
    "\n",
    "updatedict={\"Ali\": \"Height/limit/shore/Remote/Farthest\",\n",
    "            \"laboratory\":\"a room or building equipped for scientific experiments, research, or teaching, or for the manufacture of drugs or chemicals\"}\n",
    "\n",
    "print(\"\\n Inserting new key pair in dictionary \\n\\nUpdated Dictionary is \\n\")\n",
    "\n",
    "mydict.update(updatedict)\n",
    "\n",
    "print(mydict)"
   ]
  },
  {
   "cell_type": "code",
   "execution_count": 6,
   "metadata": {},
   "outputs": [
    {
     "data": {
      "text/plain": [
       "{'Artifical': 'made or produced by human beings rather than occurring naturally, especially as a copy of something',\n",
       " 'Intelligence': 'the ability to acquire and apply knowledge and skills.',\n",
       " 2021: 'The current year',\n",
       " 'Ali': 'Height/limit/shore/Remote/Farthest',\n",
       " 'laboratory': 'a room or building equipped for scientific experiments, research, or teaching, or for the manufacture of drugs or chemicals'}"
      ]
     },
     "execution_count": 6,
     "metadata": {},
     "output_type": "execute_result"
    }
   ],
   "source": [
    "dictCopy = mydict.copy()\n",
    "\n",
    "dictCopy"
   ]
  },
  {
   "cell_type": "markdown",
   "metadata": {},
   "source": [
    "### Example 07: Decision Making Statements\n",
    "\n",
    "- Compare a and b and display weather a is greater than, less than or equal to b where a=5 and b=2\n"
   ]
  },
  {
   "cell_type": "code",
   "execution_count": 7,
   "metadata": {},
   "outputs": [
    {
     "name": "stdout",
     "output_type": "stream",
     "text": [
      "a is greater then b\n"
     ]
    }
   ],
   "source": [
    "a = 5\n",
    "b = 2\n",
    "\n",
    "if a > b:\n",
    "    print(\"a is greater then b\")\n",
    "elif b > a:\n",
    "    print(\"a is less then b\")\n",
    "else:\n",
    "    print(\"a and b are equal\")"
   ]
  },
  {
   "cell_type": "markdown",
   "metadata": {},
   "source": [
    "- Compare a and b and display weather a is greater than, less than or equal to, take values of a and b from the user"
   ]
  },
  {
   "cell_type": "code",
   "execution_count": 8,
   "metadata": {},
   "outputs": [
    {
     "name": "stdout",
     "output_type": "stream",
     "text": [
      "a is less then b\n"
     ]
    }
   ],
   "source": [
    "a = int(input(\"Enter value of a: \"))\n",
    "b = int(input(\"Enter value of b: \"))\n",
    "\n",
    "if a > b:\n",
    "    print(\"a is greater then b\")\n",
    "elif b > a:\n",
    "    print(\"a is less then b\")\n",
    "else:\n",
    "    print(\"a and b are equal\")"
   ]
  },
  {
   "cell_type": "markdown",
   "metadata": {},
   "source": [
    "### Example 08: For Loop\n",
    "- Implement for loop, remove newline, inserting character/symbol in between characters using print statement."
   ]
  },
  {
   "cell_type": "code",
   "execution_count": 11,
   "metadata": {},
   "outputs": [
    {
     "name": "stdout",
     "output_type": "stream",
     "text": [
      "Implementing for loop :\n",
      "P\n",
      "Y\n",
      "T\n",
      "H\n",
      "O\n",
      "N\n",
      "\n",
      "\n",
      "Removing Newline from print statement : \n",
      "PYTHON\n",
      "\n",
      "Adding different characters/symbol in print statement: \n",
      "P*Y*T*H*O*N*"
     ]
    }
   ],
   "source": [
    "print(\"Implementing for loop :\")\n",
    "\n",
    "for i in \"PYTHON\":\n",
    "    print (i)\n",
    "\n",
    "print(\"\\n\\nRemoving Newline from print statement : \")\n",
    "\n",
    "for i in \"PYTHON\":\n",
    "    print (i,end='')\n",
    "\n",
    "print(\"\\n\\nAdding different characters/symbol in print statement: \")\n",
    "\n",
    "for i in \"PYTHON\":\n",
    "    print (i, end='*')"
   ]
  },
  {
   "cell_type": "markdown",
   "metadata": {},
   "source": [
    "- Perform the above task with list"
   ]
  },
  {
   "cell_type": "code",
   "execution_count": 12,
   "metadata": {},
   "outputs": [
    {
     "name": "stdout",
     "output_type": "stream",
     "text": [
      "Implementing for loop :\n",
      "1\n",
      "2\n",
      "3\n",
      "4\n",
      "5\n",
      "6\n",
      "\n",
      "\n",
      "Removing Newline from print statement : \n",
      "123456\n",
      "\n",
      "Adding different characters/symbol in print statement: \n",
      "1*2*3*4*5*6*"
     ]
    }
   ],
   "source": [
    "list = [1,2,3,4,5,6]\n",
    "\n",
    "print(\"Implementing for loop :\")\n",
    "\n",
    "for i in list:\n",
    "    print (i)\n",
    "\n",
    "print(\"\\n\\nRemoving Newline from print statement : \")\n",
    "\n",
    "for i in list:\n",
    "    print (i,end='')\n",
    "\n",
    "print(\"\\n\\nAdding different characters/symbol in print statement: \")\n",
    "\n",
    "for i in list:\n",
    "    print (i, end='*')"
   ]
  },
  {
   "cell_type": "markdown",
   "metadata": {},
   "source": [
    "- By using for loop print counting from 1 to 10 and later change the step size."
   ]
  },
  {
   "cell_type": "code",
   "execution_count": 15,
   "metadata": {},
   "outputs": [
    {
     "name": "stdout",
     "output_type": "stream",
     "text": [
      "1\n",
      "2\n",
      "3\n",
      "4\n",
      "5\n",
      "6\n",
      "7\n",
      "8\n",
      "9\n",
      "10\n",
      "\n",
      "after chnaging the step size to 2\n",
      "\n",
      "1\n",
      "3\n",
      "5\n",
      "7\n",
      "9\n"
     ]
    }
   ],
   "source": [
    "for i in range(1, 11):\n",
    "    print(i)\n",
    "\n",
    "print(\"\\nafter chnaging the step size to 2\\n\")\n",
    "\n",
    "for i in range(1, 11, 2):\n",
    "    print(i)\n"
   ]
  },
  {
   "cell_type": "markdown",
   "metadata": {},
   "source": [
    "- Print table of any number entered by the user by using for loop"
   ]
  },
  {
   "cell_type": "code",
   "execution_count": 17,
   "metadata": {},
   "outputs": [
    {
     "name": "stdout",
     "output_type": "stream",
     "text": [
      "3  *  1 =  3\n",
      "3  *  2 =  6\n",
      "3  *  3 =  9\n",
      "3  *  4 =  12\n",
      "3  *  5 =  15\n",
      "3  *  6 =  18\n",
      "3  *  7 =  21\n",
      "3  *  8 =  24\n",
      "3  *  9 =  27\n",
      "3  *  10 =  30\n"
     ]
    }
   ],
   "source": [
    "a = int(input(\"Enter the number for which you want to print table: \"))\n",
    "\n",
    "for i in range(1, 11):\n",
    "    print(f\"{a}  *  {i} =  {i*a}\")"
   ]
  },
  {
   "cell_type": "markdown",
   "metadata": {},
   "source": [
    "- Print the keys of a dictionary using for loop"
   ]
  },
  {
   "cell_type": "code",
   "execution_count": 18,
   "metadata": {},
   "outputs": [
    {
     "name": "stdout",
     "output_type": "stream",
     "text": [
      "Artifical\n",
      "Intelligence\n",
      "2021\n"
     ]
    }
   ],
   "source": [
    "mydict={ \"Artifical\" : \"made or produced by human beings rather than occurring naturally, especially as a copy of something\",\n",
    "        \"Intelligence\" : \"the ability to acquire and apply knowledge and skills.\",\n",
    "        2021: \"The current year\"}\n",
    "\n",
    "for i in mydict:\n",
    "    print(i)"
   ]
  },
  {
   "cell_type": "markdown",
   "metadata": {},
   "source": [
    "- Print the values of a dictionary"
   ]
  },
  {
   "cell_type": "code",
   "execution_count": 19,
   "metadata": {},
   "outputs": [
    {
     "name": "stdout",
     "output_type": "stream",
     "text": [
      "made or produced by human beings rather than occurring naturally, especially as a copy of something\n",
      "the ability to acquire and apply knowledge and skills.\n",
      "The current year\n"
     ]
    }
   ],
   "source": [
    "mydict={ \"Artifical\" : \"made or produced by human beings rather than occurring naturally, especially as a copy of something\",\n",
    "        \"Intelligence\" : \"the ability to acquire and apply knowledge and skills.\",\n",
    "        2021: \"The current year\"}\n",
    "\n",
    "for i in mydict:\n",
    "    print(mydict[i])"
   ]
  },
  {
   "cell_type": "markdown",
   "metadata": {},
   "source": [
    "- Print complete dictionary"
   ]
  },
  {
   "cell_type": "code",
   "execution_count": 20,
   "metadata": {},
   "outputs": [
    {
     "name": "stdout",
     "output_type": "stream",
     "text": [
      "Artifical : made or produced by human beings rather than occurring naturally, especially as a copy of something\n",
      "Intelligence : the ability to acquire and apply knowledge and skills.\n",
      "2021 : The current year\n"
     ]
    }
   ],
   "source": [
    "mydict={ \"Artifical\" : \"made or produced by human beings rather than occurring naturally, especially as a copy of something\",\n",
    "        \"Intelligence\" : \"the ability to acquire and apply knowledge and skills.\",\n",
    "        2021: \"The current year\"}\n",
    "\n",
    "for i in mydict:\n",
    "    print(i, \":\", mydict[i])"
   ]
  },
  {
   "cell_type": "markdown",
   "metadata": {},
   "source": [
    "- Print even numbers in the range of 1 to 100"
   ]
  },
  {
   "cell_type": "code",
   "execution_count": 21,
   "metadata": {},
   "outputs": [
    {
     "name": "stdout",
     "output_type": "stream",
     "text": [
      "2,4,6,8,10,12,14,16,18,20,22,24,26,28,30,32,34,36,38,40,42,44,46,48,50,52,54,56,58,60,62,64,66,68,70,72,74,76,78,80,82,84,86,88,90,92,94,96,98,100,"
     ]
    }
   ],
   "source": [
    "for i in range(1, 101):\n",
    "    if i%2 == 0:\n",
    "        print(i, end=\",\")"
   ]
  },
  {
   "cell_type": "markdown",
   "metadata": {},
   "source": [
    "- Print even numbers amongst the range of 1 to 101 with a step size  of  5 and count them"
   ]
  },
  {
   "cell_type": "code",
   "execution_count": 24,
   "metadata": {},
   "outputs": [
    {
     "name": "stdout",
     "output_type": "stream",
     "text": [
      "6,16,26,36,46,56,66,76,86,96,\n",
      "the total number is  10\n"
     ]
    }
   ],
   "source": [
    "count = 0\n",
    "for i in range(1, 101, 5):\n",
    "    if i%2 == 0:\n",
    "        print(i, end=\",\")\n",
    "        count +=1\n",
    "print(\"\\nthe total number is \", count)\n"
   ]
  },
  {
   "cell_type": "markdown",
   "metadata": {},
   "source": [
    "- Print a list using for loop by taking input from the user"
   ]
  },
  {
   "cell_type": "code",
   "execution_count": 25,
   "metadata": {},
   "outputs": [
    {
     "name": "stdout",
     "output_type": "stream",
     "text": [
      "[2, 3, 4]\n"
     ]
    }
   ],
   "source": [
    "lis = []\n",
    "\n",
    "for i in range(1, 4):\n",
    "    a = int(input(\"Enter the element: \"))\n",
    "    lis.append(a)\n",
    "print(lis)"
   ]
  },
  {
   "cell_type": "markdown",
   "metadata": {},
   "source": [
    "### Example 09: While Loop\n"
   ]
  },
  {
   "cell_type": "markdown",
   "metadata": {},
   "source": [
    "- Print counting from 1 to 10 using while loop"
   ]
  },
  {
   "cell_type": "code",
   "execution_count": 27,
   "metadata": {},
   "outputs": [
    {
     "name": "stdout",
     "output_type": "stream",
     "text": [
      "0\n",
      "1\n",
      "2\n",
      "3\n",
      "4\n",
      "5\n",
      "6\n",
      "7\n",
      "8\n",
      "9\n"
     ]
    }
   ],
   "source": [
    "i = 0\n",
    "\n",
    "while i < 10:\n",
    "    print(i)\n",
    "    i += 1"
   ]
  },
  {
   "cell_type": "markdown",
   "metadata": {},
   "source": [
    "- Take input from user in a list and find the greatest number using while loop"
   ]
  },
  {
   "cell_type": "code",
   "execution_count": 29,
   "metadata": {},
   "outputs": [
    {
     "name": "stdout",
     "output_type": "stream",
     "text": [
      "The input list is \n",
      " [3, 4, 5, 6, 22, 1, 5, 7, 8, 99]\n",
      "The greatest number amongst the list is :  99\n"
     ]
    }
   ],
   "source": [
    "i=0\n",
    "j=1\n",
    "lis = []\n",
    "while (i<10):\n",
    "    a=int (input(\"Enter the element : \"))\n",
    "    lis.append(a)\n",
    "\n",
    "    i=i+1\n",
    "\n",
    "print(\"The input list is \\n\", lis )\n",
    "\n",
    "maxi=lis[0]\n",
    "\n",
    "while (j<10):\n",
    "    if(maxi<lis [j]):\n",
    "        maxi=lis[j]\n",
    "    j=j+1\n",
    "\n",
    "print(\"The greatest number amongst the list is : \", maxi)\n"
   ]
  },
  {
   "cell_type": "markdown",
   "metadata": {},
   "source": [
    "### Example 10: Functions"
   ]
  },
  {
   "cell_type": "markdown",
   "metadata": {},
   "source": [
    "- Implement a Simple Function"
   ]
  },
  {
   "cell_type": "code",
   "execution_count": 30,
   "metadata": {},
   "outputs": [],
   "source": [
    "def myFunc():\n",
    "    print(\"This is my Function\")\n",
    "    "
   ]
  },
  {
   "cell_type": "code",
   "execution_count": 31,
   "metadata": {},
   "outputs": [
    {
     "name": "stdout",
     "output_type": "stream",
     "text": [
      "This is my Function\n"
     ]
    }
   ],
   "source": [
    "myFunc()"
   ]
  },
  {
   "cell_type": "markdown",
   "metadata": {},
   "source": [
    "- Find the sum of a and b by function"
   ]
  },
  {
   "cell_type": "code",
   "execution_count": 32,
   "metadata": {},
   "outputs": [],
   "source": [
    "def addAB(a, b):\n",
    "    sum = a + b\n",
    "    return sum"
   ]
  },
  {
   "cell_type": "code",
   "execution_count": 34,
   "metadata": {},
   "outputs": [
    {
     "name": "stdout",
     "output_type": "stream",
     "text": [
      "8\n"
     ]
    }
   ],
   "source": [
    "sum = addAB(3, 5)\n",
    "print(sum)"
   ]
  },
  {
   "cell_type": "markdown",
   "metadata": {},
   "source": [
    "- Find the sum of a and b by return statement of function"
   ]
  },
  {
   "cell_type": "code",
   "execution_count": 35,
   "metadata": {},
   "outputs": [],
   "source": [
    "def addAB(a, b):\n",
    "    return a+b"
   ]
  },
  {
   "cell_type": "code",
   "execution_count": 36,
   "metadata": {},
   "outputs": [
    {
     "data": {
      "text/plain": [
       "7"
      ]
     },
     "execution_count": 36,
     "metadata": {},
     "output_type": "execute_result"
    }
   ],
   "source": [
    "addAB(4, 3)"
   ]
  },
  {
   "cell_type": "markdown",
   "metadata": {},
   "source": [
    "- Demonstrate how function acts if only one argument is passed out of 2"
   ]
  },
  {
   "cell_type": "code",
   "execution_count": 37,
   "metadata": {},
   "outputs": [],
   "source": [
    "def addAB(a = 1, b = 1):\n",
    "    return a + b"
   ]
  },
  {
   "cell_type": "code",
   "execution_count": 38,
   "metadata": {},
   "outputs": [
    {
     "data": {
      "text/plain": [
       "5"
      ]
     },
     "execution_count": 38,
     "metadata": {},
     "output_type": "execute_result"
    }
   ],
   "source": [
    "addAB(a=4)"
   ]
  },
  {
   "cell_type": "markdown",
   "metadata": {},
   "source": [
    "### Example 11: Lambda Function \n",
    "\n",
    "Certainly! A lambda function in Python is a small, anonymous function defined using the lambda keyword. Lambda functions are also known as anonymous functions or lambda expressions. They are used for creating small, one-time-use functions without a formal function definition.\n",
    "\n",
    "lambda `arguments`: `expression`\n",
    "\n",
    "- ``arguments``: These are the input arguments to the lambda function, similar to the arguments of a regular function.\n",
    "- ``expression``: This is a single expression that gets evaluated and returned by the lambda function."
   ]
  },
  {
   "cell_type": "markdown",
   "metadata": {},
   "source": [
    "- Define a lambda function that adds two numbers"
   ]
  },
  {
   "cell_type": "code",
   "execution_count": 1,
   "metadata": {},
   "outputs": [
    {
     "name": "stdout",
     "output_type": "stream",
     "text": [
      "8\n"
     ]
    }
   ],
   "source": [
    "add = lambda x, y: x + y\n",
    "\n",
    "# Use the lambda function\n",
    "result = add(5, 3)\n",
    "print(result)"
   ]
  },
  {
   "cell_type": "markdown",
   "metadata": {},
   "source": [
    "- Using Lambda with map()\n",
    "\n",
    "In this example, we use map() to apply a lambda function to each element in the numbers list, squaring each number."
   ]
  },
  {
   "cell_type": "code",
   "execution_count": 2,
   "metadata": {},
   "outputs": [
    {
     "name": "stdout",
     "output_type": "stream",
     "text": [
      "[1, 4, 9, 16, 25]\n"
     ]
    }
   ],
   "source": [
    "# Create a list of numbers\n",
    "numbers = [1, 2, 3, 4, 5]\n",
    "\n",
    "# Use map() with a lambda function to square each number\n",
    "squared_numbers = list(map(lambda x: x**2, numbers))\n",
    "\n",
    "print(squared_numbers)  \n"
   ]
  },
  {
   "cell_type": "markdown",
   "metadata": {},
   "source": [
    "- Using Lambda with filter()\n",
    "\n",
    "In this example, we use filter() to filter out the even numbers from the numbers list using a lambda function."
   ]
  },
  {
   "cell_type": "code",
   "execution_count": 3,
   "metadata": {},
   "outputs": [
    {
     "name": "stdout",
     "output_type": "stream",
     "text": [
      "[2, 4, 6, 8, 10]\n"
     ]
    }
   ],
   "source": [
    "# Create a list of numbers\n",
    "numbers = [1, 2, 3, 4, 5, 6, 7, 8, 9, 10]\n",
    "\n",
    "# Use filter() with a lambda function to filter even numbers\n",
    "even_numbers = list(filter(lambda x: x % 2 == 0, numbers))\n",
    "\n",
    "print(even_numbers) "
   ]
  },
  {
   "cell_type": "code",
   "execution_count": null,
   "metadata": {},
   "outputs": [],
   "source": []
  }
 ],
 "metadata": {
  "kernelspec": {
   "display_name": "Python 3 (ipykernel)",
   "language": "python",
   "name": "python3"
  },
  "language_info": {
   "codemirror_mode": {
    "name": "ipython",
    "version": 3
   },
   "file_extension": ".py",
   "mimetype": "text/x-python",
   "name": "python",
   "nbconvert_exporter": "python",
   "pygments_lexer": "ipython3",
   "version": "3.9.1"
  }
 },
 "nbformat": 4,
 "nbformat_minor": 2
}
