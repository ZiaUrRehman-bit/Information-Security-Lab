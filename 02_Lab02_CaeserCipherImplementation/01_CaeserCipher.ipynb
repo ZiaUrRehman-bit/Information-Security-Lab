{
 "cells": [
  {
   "cell_type": "markdown",
   "metadata": {},
   "source": [
    "# <center>Caeser Cipher</center>"
   ]
  },
  {
   "cell_type": "markdown",
   "metadata": {},
   "source": [
    "### Cryptizia"
   ]
  },
  {
   "cell_type": "code",
   "execution_count": 1,
   "metadata": {},
   "outputs": [
    {
     "name": "stdout",
     "output_type": "stream",
     "text": [
      "\u001b[1m\u001b[34m\n",
      "Processing...\n",
      "\u001b[0m\n",
      "\u001b[4m\u001b[1m\u001b[33m\n",
      "Original Text: HELLO\n",
      "\u001b[0m\n",
      "\u001b[1m\u001b[36m\u001b[0m\n",
      "\u001b[1m\u001b[36m=== Introduction to Caesar Cipher ===\u001b[0m\n",
      "\u001b[1m\u001b[36m\u001b[0m\n",
      "\u001b[1m\u001b[36mThe Caesar Cipher is one of the simplest and most widely known encryption techniques.\u001b[0m\n",
      "\u001b[1m\u001b[36mIt is a type of substitution cipher where each letter in the plaintext is 'shifted'\u001b[0m\n",
      "\u001b[1m\u001b[36mby a certain number of positions down the alphabet.\u001b[0m\n",
      "\u001b[1m\u001b[36m\u001b[0m\n",
      "\u001b[1m\u001b[36mThe mathematical formula for encryption is:\u001b[0m\n",
      "\u001b[1m\u001b[36mE(x) = (x + n) % 26\u001b[0m\n",
      "\u001b[1m\u001b[36m\u001b[0m\n",
      "\u001b[1m\u001b[36mWhere:\u001b[0m\n",
      "\u001b[1m\u001b[36m- E(x) is the encrypted letter.\u001b[0m\n",
      "\u001b[1m\u001b[36m- x is the position of the letter in the alphabet (starting from 0 for 'A').\u001b[0m\n",
      "\u001b[1m\u001b[36m- n is the shift value (the number of positions to shift).\u001b[0m\n",
      "\u001b[1m\u001b[36m\u001b[0m\n",
      "\u001b[1m\u001b[36mThe decryption formula is:\u001b[0m\n",
      "\u001b[1m\u001b[36mD(x) = (x - n) % 26\u001b[0m\n",
      "\u001b[1m\u001b[36m\u001b[0m\n",
      "\u001b[1m\u001b[36mLet's explore how this works with an example using a shift value of 3.\u001b[0m\n",
      "\u001b[1m\u001b[36m\u001b[0m\n",
      "\u001b[1m\u001b[32m\n",
      "=== Caesar Cipher Encryption ===\n",
      "\u001b[0m\n",
      "\u001b[1m\u001b[33mEncrypting H:\u001b[0m\n",
      "  - Current Position (Index of H): 7\n",
      "  - Shift by 3: (7 + 3) % 26 = 10\n",
      "  - Encrypted Character: H → K\n",
      "\u001b[1m\u001b[33mEncrypting E:\u001b[0m\n",
      "  - Current Position (Index of E): 4\n",
      "  - Shift by 3: (4 + 3) % 26 = 7\n",
      "  - Encrypted Character: E → H\n",
      "\u001b[1m\u001b[33mEncrypting L:\u001b[0m\n",
      "  - Current Position (Index of L): 11\n",
      "  - Shift by 3: (11 + 3) % 26 = 14\n",
      "  - Encrypted Character: L → O\n",
      "\u001b[1m\u001b[33mEncrypting L:\u001b[0m\n",
      "  - Current Position (Index of L): 11\n",
      "  - Shift by 3: (11 + 3) % 26 = 14\n",
      "  - Encrypted Character: L → O\n",
      "\u001b[1m\u001b[33mEncrypting O:\u001b[0m\n",
      "  - Current Position (Index of O): 14\n",
      "  - Shift by 3: (14 + 3) % 26 = 17\n",
      "  - Encrypted Character: O → R\n",
      "\u001b[1m\u001b[36m\n",
      "Final Encrypted Text: KHOOR\n",
      "\u001b[0m\n",
      "\u001b[4m\u001b[1m\u001b[32m\n",
      "Result: KHOOR\n",
      "\u001b[0m\n",
      "\u001b[1m\u001b[36m=== Process Completed ===\n",
      "\u001b[0m\n",
      "\u001b[1m\u001b[34m\n",
      "Processing...\n",
      "\u001b[0m\n",
      "\u001b[4m\u001b[1m\u001b[33m\n",
      "Original Text: KHOOR\n",
      "\u001b[0m\n",
      "\u001b[1m\u001b[34m\n",
      "=== Caesar Cipher Decryption ===\n",
      "\u001b[0m\n",
      "\u001b[1m\u001b[35mDecrypting K:\u001b[0m\n",
      "  - Current Position (Index of K): 10\n",
      "  - Shift by 3: (10 - 3) % 26 = 7\n",
      "  - Decrypted Character: K → H\n",
      "\u001b[1m\u001b[35mDecrypting H:\u001b[0m\n",
      "  - Current Position (Index of H): 7\n",
      "  - Shift by 3: (7 - 3) % 26 = 4\n",
      "  - Decrypted Character: H → E\n",
      "\u001b[1m\u001b[35mDecrypting O:\u001b[0m\n",
      "  - Current Position (Index of O): 14\n",
      "  - Shift by 3: (14 - 3) % 26 = 11\n",
      "  - Decrypted Character: O → L\n",
      "\u001b[1m\u001b[35mDecrypting O:\u001b[0m\n",
      "  - Current Position (Index of O): 14\n",
      "  - Shift by 3: (14 - 3) % 26 = 11\n",
      "  - Decrypted Character: O → L\n",
      "\u001b[1m\u001b[35mDecrypting R:\u001b[0m\n",
      "  - Current Position (Index of R): 17\n",
      "  - Shift by 3: (17 - 3) % 26 = 14\n",
      "  - Decrypted Character: R → O\n",
      "\u001b[1m\u001b[36m\n",
      "Final Decrypted Text: HELLO\n",
      "\u001b[0m\n",
      "\u001b[4m\u001b[1m\u001b[32m\n",
      "Result: HELLO\n",
      "\u001b[0m\n",
      "\u001b[1m\u001b[36m=== Process Completed ===\n",
      "\u001b[0m\n"
     ]
    },
    {
     "data": {
      "text/plain": [
       "<Cryptizia.CaeserCipherExample.CaesarCipherExample at 0x12ebf9355d0>"
      ]
     },
     "execution_count": 1,
     "metadata": {},
     "output_type": "execute_result"
    }
   ],
   "source": [
    "from Cryptizia import CaesarCipherExample\n",
    "CaesarCipherExample()"
   ]
  },
  {
   "cell_type": "markdown",
   "metadata": {},
   "source": [
    "### Encryption"
   ]
  },
  {
   "cell_type": "code",
   "execution_count": 4,
   "metadata": {},
   "outputs": [
    {
     "name": "stdout",
     "output_type": "stream",
     "text": [
      "Encrypted: KHOOR ZRUOG\n"
     ]
    }
   ],
   "source": [
    "# Introduction\n",
    "# This code implements a simple Caesar cipher encryption function.\n",
    "# The Caesar cipher shifts each letter in the plaintext by a specified number of \n",
    "# positions in the alphabet while keeping non-alphabetical characters unchanged.\n",
    "# It then returns the encrypted message.\n",
    "\n",
    "# Line-by-line Explanation:\n",
    "def caesar_encrypt(plaintext, shift):\n",
    "    \n",
    "    # Initializes an empty string to store the resulting encrypted message.\n",
    "    encrypted = \"\"  \n",
    "    \n",
    "    # Iterates over each character in the plaintext.\n",
    "    for char in plaintext:  \n",
    "        \n",
    "        # Checks if the character is a letter (either uppercase or lowercase). \n",
    "        # If it is not a letter, it will be added to the encrypted message as is \n",
    "        # (e.g., spaces, punctuation).\n",
    "        if char.isalpha():  \n",
    "            \n",
    "            # Determines the base ASCII value for the letter shift.\n",
    "            # If the character is uppercase, shift_base is set to 65 (the ASCII code for 'A').\n",
    "            # If lowercase, it's set to 97 (the ASCII code for 'a').\n",
    "            shift_base = 65 if char.isupper() else 97  \n",
    "            \n",
    "            # Converts the letter to its corresponding ASCII value using ord(char),\n",
    "            # then shifts it by the shift value, ensuring the result wraps around the alphabet\n",
    "            # using modulo 26, and finally converts it back to a character using chr().\n",
    "            # Get the ASCII value of the character and shift it\n",
    "            ascii_value = ord(char) - shift_base  # Adjust the character based on 'A' or 'a'\n",
    "            shifted_value = (ascii_value + shift) % 26  # Apply the shift and wrap around using modulo 26\n",
    "            new_ascii_value = shifted_value + shift_base  # Convert back to ASCII by adding the base ('A' or 'a')\n",
    "            new_char = chr(new_ascii_value)  # Convert the new ASCII value back to a character\n",
    "\n",
    "            # Add the encrypted character to the result string\n",
    "            encrypted += new_char\n",
    "\n",
    "        else:\n",
    "            # For non-alphabetical characters (like spaces or punctuation),\n",
    "            # this ensures they remain unchanged.\n",
    "            encrypted += char  \n",
    "    \n",
    "    # Returns the fully encrypted message.\n",
    "    return encrypted  \n",
    "\n",
    "\n",
    "# Example usage:\n",
    "# The code encrypts \"HELLO WORLD\" with a shift of 3, resulting in the encrypted message: \"KHOOR ZRUOG\".\n",
    "plaintext = \"HELLO WORLD\"  # The text to be encrypted\n",
    "shift = 3  # The number of positions to shift each letter\n",
    "encrypted_message = caesar_encrypt(plaintext, shift)  # Encrypt the message\n",
    "\n",
    "# Output the encrypted message\n",
    "print(f\"Encrypted: {encrypted_message}\")  # Output: \"KHOOR ZRUOG\"\n",
    "\n"
   ]
  },
  {
   "cell_type": "markdown",
   "metadata": {},
   "source": [
    "## Dry Run: Example with \"HELLO WORLD\" and shift of 3\n",
    "\n",
    "### Step 1: Initialization\n",
    "- **Plaintext**: `\"HELLO WORLD\"`\n",
    "- **Shift**: `3`\n",
    "- **Encrypted String**: Empty `\"\"` at the start.\n",
    "\n",
    "### Step 2: Character by Character Explanation\n",
    "\n",
    "1. **For `H`**:\n",
    "   - `char = 'H'` → It's uppercase, so `shift_base = 65`.\n",
    "   - **ASCII Value**: `ord('H') - 65 = 7`.\n",
    "   - **Shifted Value**: `(7 + 3) % 26 = 10`.\n",
    "   - **New ASCII**: `10 + 65 = 75` → `'K'`.\n",
    "   - **Result**: `encrypted = \"K\"`.\n",
    "\n",
    "2. **For `E`**:\n",
    "   - `char = 'E'` → `shift_base = 65`.\n",
    "   - **ASCII Value**: `ord('E') - 65 = 4`.\n",
    "   - **Shifted Value**: `(4 + 3) % 26 = 7`.\n",
    "   - **New ASCII**: `7 + 65 = 72` → `'H'`.\n",
    "   - **Result**: `encrypted = \"KH\"`.\n",
    "\n",
    "3. **For `L`**:\n",
    "   - `char = 'L'` → `shift_base = 65`.\n",
    "   - **ASCII Value**: `ord('L') - 65 = 11`.\n",
    "   - **Shifted Value**: `(11 + 3) % 26 = 14`.\n",
    "   - **New ASCII**: `14 + 65 = 79` → `'O'`.\n",
    "   - **Result**: `encrypted = \"KHO\"`.\n",
    "\n",
    "4. **For the second `L`**:\n",
    "   - Same as the first `L`.\n",
    "   - **Result**: `encrypted = \"KHOO\"`.\n",
    "\n",
    "5. **For `O`**:\n",
    "   - `char = 'O'` → `shift_base = 65`.\n",
    "   - **ASCII Value**: `ord('O') - 65 = 14`.\n",
    "   - **Shifted Value**: `(14 + 3) % 26 = 17`.\n",
    "   - **New ASCII**: `17 + 65 = 82` → `'R'`.\n",
    "   - **Result**: `encrypted = \"KHOOR\"`.\n",
    "\n",
    "6. **For space ` `**:\n",
    "   - It's not a letter.\n",
    "   - **Result**: `encrypted = \"KHOOR \"`.\n",
    "\n",
    "7. **For `W`**:\n",
    "   - `char = 'W'` → `shift_base = 65`.\n",
    "   - **ASCII Value**: `ord('W') - 65 = 22`.\n",
    "   - **Shifted Value**: `(22 + 3) % 26 = 25`.\n",
    "   - **New ASCII**: `25 + 65 = 90` → `'Z'`.\n",
    "   - **Result**: `encrypted = \"KHOOR Z\"`.\n",
    "\n",
    "8. **For `O`**:\n",
    "   - Same as before.\n",
    "   - **Result**: `encrypted = \"KHOOR ZR\"`.\n",
    "\n",
    "9. **For `R`**:\n",
    "   - `char = 'R'` → `shift_base = 65`.\n",
    "   - **ASCII Value**: `ord('R') - 65 = 17`.\n",
    "   - **Shifted Value**: `(17 + 3) % 26 = 20`.\n",
    "   - **New ASCII**: `20 + 65 = 85` → `'U'`.\n",
    "   - **Result**: `encrypted = \"KHOOR ZRU\"`.\n",
    "\n",
    "10. **For `L`**:\n",
    "    - Same as before.\n",
    "    - **Result**: `encrypted = \"KHOOR ZRUO\"`.\n",
    "\n",
    "11. **For `D`**:\n",
    "    - `char = 'D'` → `shift_base = 65`.\n",
    "    - **ASCII Value**: `ord('D') - 65 = 3`.\n",
    "    - **Shifted Value**: `(3 + 3) % 26 = 6`.\n",
    "    - **New ASCII**: `6 + 65 = 71` → `'G'`.\n",
    "    - **Result**: `encrypted = \"KHOOR ZRUOG\"`.\n",
    "\n",
    "---\n",
    "\n",
    "## Final Encrypted Output:\n",
    "\n",
    "```plaintext\n",
    "Encrypted: KHOOR ZRUOG\n",
    "```"
   ]
  },
  {
   "cell_type": "markdown",
   "metadata": {},
   "source": [
    "### Decryption"
   ]
  },
  {
   "cell_type": "code",
   "execution_count": 5,
   "metadata": {},
   "outputs": [
    {
     "name": "stdout",
     "output_type": "stream",
     "text": [
      "Decrypted: HELLO WORLD\n"
     ]
    }
   ],
   "source": [
    "# Function to decrypt text using Caesar Cipher\n",
    "def caesar_decrypt(ciphertext, shift):\n",
    "    \n",
    "    # Decrypt by calling caesar_encrypt but with the negative shift.\n",
    "    # This reverses the shift applied during encryption.\n",
    "    return caesar_encrypt(ciphertext, -shift)\n",
    "\n",
    "# Example usage:\n",
    "shift = 3  # The shift value used for encryption\n",
    "\n",
    "# Decrypt the previously encrypted message by shifting in the opposite direction\n",
    "decrypted_message = caesar_decrypt(encrypted_message, shift)\n",
    "\n",
    "# Output the decrypted message (which should be the original plaintext)\n",
    "print(f\"Decrypted: {decrypted_message}\")\n"
   ]
  },
  {
   "cell_type": "markdown",
   "metadata": {},
   "source": [
    "## Dry Run Example:\n",
    "### **Inputs:**\n",
    "- Ciphertext: `KHOOR ZRUOG` (Encrypted version of \"HELLO WORLD\")\n",
    "- Shift: `3`\n",
    "\n",
    "### Step-by-Step Execution:\n",
    "1. **Call to `caesar_decrypt(ciphertext, shift)`**:  \n",
    "    The function `caesar_decrypt` is called with `ciphertext=\"KHOOR ZRUOG\"` and `shift=3`.\n",
    "    \n",
    "2. **Negative Shift for Decryption**:  \n",
    "    Inside the function, it calls `caesar_encrypt(ciphertext, -shift)` to reverse the encryption shift.  \n",
    "    The new effective shift for decryption is `-3`.\n",
    "\n",
    "3. **Decryption Process**:  \n",
    "    The `caesar_encrypt` function works as explained in the encryption dry run, but this time it shifts each character **backwards** by 3 positions in the alphabet.\n",
    "\n",
    "4. **Character-by-Character Decryption**:\n",
    "   - 'K' -> Shift back by 3 -> 'H'\n",
    "   - 'H' -> Shift back by 3 -> 'E'\n",
    "   - 'O' -> Shift back by 3 -> 'L'\n",
    "   - 'O' -> Shift back by 3 -> 'L'\n",
    "   - 'R' -> Shift back by 3 -> 'O'\n",
    "   - (Space remains unchanged)\n",
    "   - 'Z' -> Shift back by 3 -> 'W'\n",
    "   - 'R' -> Shift back by 3 -> 'O'\n",
    "   - 'U' -> Shift back by 3 -> 'R'\n",
    "   - 'O' -> Shift back by 3 -> 'L'\n",
    "   - 'G' -> Shift back by 3 -> 'D'\n",
    "   \n",
    "5. **Final Decrypted Message**:  \n",
    "   After processing all characters, the final decrypted message is: **\"HELLO WORLD\"**.\n",
    "\n",
    "### **Output:**\n",
    "- Decrypted message: `HELLO WORLD`\n",
    "\n",
    "---\n",
    "\n",
    "### Visualization:\n",
    "| Ciphertext  | K  | H  | O  | O  | R  | (space) | Z  | R  | U  | O  | G  |\n",
    "|-------------|----|----|----|----|----|---------|----|----|----|----|----|\n",
    "| Decrypted   | H  | E  | L  | L  | O  | (space) | W  | O  | R  | L  | D  |"
   ]
  },
  {
   "cell_type": "markdown",
   "metadata": {},
   "source": [
    "# How can i check the strength of this Caeser Cipher?\n",
    "\n",
    "The strength of the Caesar cipher, like many classical ciphers, can be assessed through several methods. Here are some common approaches to evaluate its security:\n",
    "\n",
    "`01. Key Space Analysis`\n",
    "\n",
    "`02. Frequency Analysis`\n",
    "\n",
    "`03. Entropy Calculation`\n",
    "\n",
    "`04. Brute Force Attack`\n",
    "\n",
    "and many more."
   ]
  },
  {
   "cell_type": "markdown",
   "metadata": {},
   "source": [
    "## 01. Key Space Analysis in Caesar Cipher\n",
    "The key space of a cipher refers to the total number of possible keys that can be used to encrypt and decrypt messages. For the Caesar cipher, the key space is limited to the number of possible shifts in the alphabet.\n",
    "\n",
    "In the case of the Caesar cipher, there are 25 possible shifts (1 through 25) because a shift of 0 or 26 would result in the original text. This limited key space makes the Caesar cipher vulnerable to brute-force attacks, where an attacker can try all possible shifts to decrypt a message."
   ]
  },
  {
   "cell_type": "markdown",
   "metadata": {},
   "source": [
    "### Python Code for Key Space Analysis\n",
    "Here's a simple Python script that demonstrates key space analysis for the Caesar cipher. The code will calculate the number of possible keys and display each key along with the encrypted message for a given plaintext."
   ]
  },
  {
   "cell_type": "code",
   "execution_count": 6,
   "metadata": {},
   "outputs": [
    {
     "name": "stdout",
     "output_type": "stream",
     "text": [
      "Key Space: 25 possible keys (1-25)\n",
      "\n",
      "Shift 1: IFMMP XPSME\n",
      "Shift 2: JGNNQ YQTNF\n",
      "Shift 3: KHOOR ZRUOG\n",
      "Shift 4: LIPPS ASVPH\n",
      "Shift 5: MJQQT BTWQI\n",
      "Shift 6: NKRRU CUXRJ\n",
      "Shift 7: OLSSV DVYSK\n",
      "Shift 8: PMTTW EWZTL\n",
      "Shift 9: QNUUX FXAUM\n",
      "Shift 10: ROVVY GYBVN\n",
      "Shift 11: SPWWZ HZCWO\n",
      "Shift 12: TQXXA IADXP\n",
      "Shift 13: URYYB JBEYQ\n",
      "Shift 14: VSZZC KCFZR\n",
      "Shift 15: WTAAD LDGAS\n",
      "Shift 16: XUBBE MEHBT\n",
      "Shift 17: YVCCF NFICU\n",
      "Shift 18: ZWDDG OGJDV\n",
      "Shift 19: AXEEH PHKEW\n",
      "Shift 20: BYFFI QILFX\n",
      "Shift 21: CZGGJ RJMGY\n",
      "Shift 22: DAHHK SKNHZ\n",
      "Shift 23: EBIIL TLOIA\n",
      "Shift 24: FCJJM UMPJB\n",
      "Shift 25: GDKKN VNQKC\n"
     ]
    }
   ],
   "source": [
    "def caesar_encrypt(plaintext, shift):\n",
    "    encrypted = \"\"\n",
    "    for char in plaintext:\n",
    "        if char.isalpha():\n",
    "            shift_base = 65 if char.isupper() else 97\n",
    "            encrypted += chr((ord(char) - shift_base + shift) % 26 + shift_base)\n",
    "        else:\n",
    "            encrypted += char\n",
    "    return encrypted\n",
    "\n",
    "def key_space_analysis(plaintext):\n",
    "    key_space = 25  # Possible shifts for Caesar cipher (1-25)\n",
    "    print(f\"Key Space: {key_space} possible keys (1-25)\\n\")\n",
    "    \n",
    "    for shift in range(1, key_space + 1):\n",
    "        encrypted_message = caesar_encrypt(plaintext, shift)\n",
    "        print(f\"Shift {shift}: {encrypted_message}\")\n",
    "\n",
    "# Example usage\n",
    "plaintext = \"HELLO WORLD\"\n",
    "key_space_analysis(plaintext)\n"
   ]
  },
  {
   "cell_type": "markdown",
   "metadata": {},
   "source": [
    "### Conclusion\n",
    "The key space analysis demonstrates the vulnerability of the Caesar cipher due to its limited number of possible keys. An attacker can easily try all shifts to decrypt a message, making the Caesar cipher unsuitable for secure communication in modern contexts."
   ]
  },
  {
   "cell_type": "markdown",
   "metadata": {},
   "source": [
    "## 02. Frequency Analysis in Caesar Cipher\n",
    "\n",
    "Frequency analysis is a technique used in cryptography to break ciphers by studying the frequency of letters or groups of letters in the ciphertext. Since certain letters in the English language appear more frequently than others (e.g., 'E', 'T', 'A', 'O', 'I'), this can help in decrypting messages.\n",
    "\n",
    "In the context of the Caesar cipher, we can analyze the frequency of characters in the encrypted text to make educated guesses about the likely shifts used for encryption."
   ]
  },
  {
   "cell_type": "markdown",
   "metadata": {},
   "source": [
    "### Python Code for Frequency Analysis\n",
    "\n",
    "Here's a Python script that performs frequency analysis on a given ciphertext. It will calculate the frequency of each letter and display the results, helping to identify the most common letters."
   ]
  },
  {
   "cell_type": "code",
   "execution_count": 7,
   "metadata": {},
   "outputs": [
    {
     "name": "stdout",
     "output_type": "stream",
     "text": [
      "Letter Frequency Analysis:\n",
      "A: 0 (0.00%)\n",
      "B: 0 (0.00%)\n",
      "C: 0 (0.00%)\n",
      "D: 0 (0.00%)\n",
      "E: 0 (0.00%)\n",
      "F: 0 (0.00%)\n",
      "G: 1 (10.00%)\n",
      "H: 1 (10.00%)\n",
      "I: 0 (0.00%)\n",
      "J: 0 (0.00%)\n",
      "K: 1 (10.00%)\n",
      "L: 0 (0.00%)\n",
      "M: 0 (0.00%)\n",
      "N: 0 (0.00%)\n",
      "O: 3 (30.00%)\n",
      "P: 0 (0.00%)\n",
      "Q: 0 (0.00%)\n",
      "R: 2 (20.00%)\n",
      "S: 0 (0.00%)\n",
      "T: 0 (0.00%)\n",
      "U: 1 (10.00%)\n",
      "V: 0 (0.00%)\n",
      "W: 0 (0.00%)\n",
      "X: 0 (0.00%)\n",
      "Y: 0 (0.00%)\n",
      "Z: 1 (10.00%)\n"
     ]
    }
   ],
   "source": [
    "from collections import Counter\n",
    "import string\n",
    "\n",
    "def frequency_analysis(ciphertext):\n",
    "    # Remove non-alphabetical characters and convert to uppercase\n",
    "    cleaned_text = ''.join(filter(str.isalpha, ciphertext.upper()))\n",
    "    \n",
    "    # Count the frequency of each letter\n",
    "    frequency_count = Counter(cleaned_text)\n",
    "\n",
    "    # Calculate the total number of letters\n",
    "    total_letters = sum(frequency_count.values())\n",
    "    \n",
    "    # Print frequency analysis results\n",
    "    print(\"Letter Frequency Analysis:\")\n",
    "    for letter in string.ascii_uppercase:\n",
    "        count = frequency_count.get(letter, 0)\n",
    "        frequency = (count / total_letters) * 100 if total_letters > 0 else 0\n",
    "        print(f\"{letter}: {count} ({frequency:.2f}%)\")\n",
    "\n",
    "# Example usage\n",
    "ciphertext = \"KHOOR ZRUOG\"  # This is the ciphertext for \"HELLO WORLD\" with a shift of 3\n",
    "frequency_analysis(ciphertext)\n"
   ]
  },
  {
   "cell_type": "markdown",
   "metadata": {},
   "source": [
    "### Conclusion\n",
    "\n",
    "Frequency analysis is a powerful method for breaking ciphers like the Caesar cipher. By examining the frequency of letters in the ciphertext, an attacker can identify common letters and make educated guesses about the possible shifts, facilitating the decryption process. This highlights the vulnerability of the Caesar cipher in modern cryptography, where more complex ciphers are needed to secure communications effectively."
   ]
  },
  {
   "cell_type": "markdown",
   "metadata": {},
   "source": [
    "## 03. Entropy Calculation in Caesar Cipher\n",
    "\n",
    "Entropy is a measure of uncertainty or randomness in a set of data. In cryptography, it can be used to assess the strength of a cipher based on the unpredictability of the ciphertext. The higher the entropy, the more secure the ciphertext is likely to be against statistical attacks.\n",
    "\n",
    "For a Caesar cipher, the entropy can be calculated based on the frequency distribution of the letters in the ciphertext. A perfectly uniform distribution would have the highest entropy, while a distribution concentrated on a few letters would have low entropy.\n",
    "\n",
    "### Python Code for Entropy Calculation\n",
    "Here's a Python script that calculates the entropy of a given ciphertext:"
   ]
  },
  {
   "cell_type": "code",
   "execution_count": 8,
   "metadata": {},
   "outputs": [
    {
     "name": "stdout",
     "output_type": "stream",
     "text": [
      "Entropy of the ciphertext: 2.6464\n"
     ]
    }
   ],
   "source": [
    "from collections import Counter\n",
    "import math\n",
    "\n",
    "def calculate_entropy(ciphertext):\n",
    "    # Remove non-alphabetical characters and convert to uppercase\n",
    "    cleaned_text = ''.join(filter(str.isalpha, ciphertext.upper()))\n",
    "    \n",
    "    # Count the frequency of each letter\n",
    "    frequency_count = Counter(cleaned_text)\n",
    "\n",
    "    # Calculate the total number of letters\n",
    "    total_letters = sum(frequency_count.values())\n",
    "\n",
    "    # Calculate the entropy\n",
    "    entropy = 0\n",
    "    for count in frequency_count.values():\n",
    "        probability = count / total_letters\n",
    "        if probability > 0:  # Avoid log(0)\n",
    "            entropy -= probability * math.log2(probability)\n",
    "    \n",
    "    return entropy\n",
    "\n",
    "# Example usage\n",
    "ciphertext = \"KHOOR ZRUOG\"  # This is the ciphertext for \"HELLO WORLD\" with a shift of 3\n",
    "entropy_value = calculate_entropy(ciphertext)\n",
    "print(f\"Entropy of the ciphertext: {entropy_value:.4f}\")\n"
   ]
  },
  {
   "cell_type": "markdown",
   "metadata": {},
   "source": [
    "### Conclusion\n",
    "Entropy calculation provides a quantitative measure of the unpredictability of a cipher's output. For the Caesar cipher, which has a limited key space and is susceptible to frequency analysis, the entropy values are typically lower than those of more complex encryption methods. This highlights the importance of using stronger ciphers in cryptographic applications to enhance security and reduce predictability."
   ]
  },
  {
   "cell_type": "markdown",
   "metadata": {},
   "source": [
    "## 04. Brute Force Attack Time Analysis for Caesar Cipher\n",
    "In a brute force attack on the Caesar cipher, the attacker tries all possible shifts (1 to 26) to decrypt the ciphertext. The time required for each shift can vary based on the implementation and the length of the ciphertext.\n",
    "\n",
    "### Python Code for Brute Force Attack Time Analysis\n",
    "Here's a Python script that measures the time required to perform a brute force attack on a Caesar cipher for each shift from 1 to 26:"
   ]
  },
  {
   "cell_type": "code",
   "execution_count": 11,
   "metadata": {},
   "outputs": [
    {
     "name": "stdout",
     "output_type": "stream",
     "text": [
      "Shift  Decrypted Message    Time Taken (seconds)\n",
      "1      JGNNQ YQTNF          0.0000000000\n",
      "2      IFMMP XPSME          0.0000000000\n",
      "3      HELLO WORLD          0.0000000000\n",
      "4      GDKKN VNQKC          0.0000000000\n",
      "5      FCJJM UMPJB          0.0000000000\n",
      "6      EBIIL TLOIA          0.0000000000\n",
      "7      DAHHK SKNHZ          0.0000000000\n",
      "8      CZGGJ RJMGY          0.0000000000\n",
      "9      BYFFI QILFX          0.0000000000\n",
      "10     AXEEH PHKEW          0.0000000000\n",
      "11     ZWDDG OGJDV          0.0000000000\n",
      "12     YVCCF NFICU          0.0000000000\n",
      "13     XUBBE MEHBT          0.0000000000\n",
      "14     WTAAD LDGAS          0.0000000000\n",
      "15     VSZZC KCFZR          0.0000000000\n",
      "16     URYYB JBEYQ          0.0000000000\n",
      "17     TQXXA IADXP          0.0000000000\n",
      "18     SPWWZ HZCWO          0.0000000000\n",
      "19     ROVVY GYBVN          0.0000000000\n",
      "20     QNUUX FXAUM          0.0000000000\n",
      "21     PMTTW EWZTL          0.0000000000\n",
      "22     OLSSV DVYSK          0.0000000000\n",
      "23     NKRRU CUXRJ          0.0000000000\n",
      "24     MJQQT BTWQI          0.0000000000\n",
      "25     LIPPS ASVPH          0.0000000000\n",
      "26     KHOOR ZRUOG          0.0000000000\n"
     ]
    }
   ],
   "source": [
    "import time\n",
    "\n",
    "# Function to decrypt text using Caesar Cipher\n",
    "def caesar_decrypt(ciphertext, shift):\n",
    "    decrypted = \"\"\n",
    "    for char in ciphertext:\n",
    "        if char.isalpha():\n",
    "            shift_base = 65 if char.isupper() else 97\n",
    "            decrypted += chr((ord(char) - shift_base - shift) % 26 + shift_base)\n",
    "        else:\n",
    "            decrypted += char\n",
    "    return decrypted\n",
    "\n",
    "# Function to perform brute force attack and measure time for each shift\n",
    "def brute_force_time_analysis(ciphertext):\n",
    "    results = []\n",
    "    for shift in range(1, 27):\n",
    "        start_time = time.time()  # Start time measurement\n",
    "        decrypted_message = caesar_decrypt(ciphertext, shift)  # Perform decryption\n",
    "        end_time = time.time()  # End time measurement\n",
    "        time_taken = end_time - start_time  # Calculate time taken\n",
    "        results.append((shift, decrypted_message, time_taken))\n",
    "\n",
    "    return results\n",
    "\n",
    "# Example usage\n",
    "ciphertext = \"KHOOR ZRUOG\"  # This is the ciphertext for \"HELLO WORLD\" with a shift of 3\n",
    "results = brute_force_time_analysis(ciphertext)\n",
    "\n",
    "# Print the results\n",
    "print(f\"{'Shift':<6} {'Decrypted Message':<20} {'Time Taken (seconds)':<20}\")\n",
    "for shift, decrypted_message, time_taken in results:\n",
    "    print(f\"{shift:<6} {decrypted_message:<20} {time_taken:.10f}\")\n"
   ]
  },
  {
   "cell_type": "markdown",
   "metadata": {},
   "source": [
    "### Conclusion\n",
    "The above script provides a way to measure the time required for a brute force attack on the Caesar cipher. It illustrates how quickly the different shifts can be tested, showing that a Caesar cipher is relatively easy to break due to its limited key space of only 26 possible shifts. This reinforces the need for stronger encryption methods for secure communication."
   ]
  },
  {
   "cell_type": "code",
   "execution_count": null,
   "metadata": {},
   "outputs": [],
   "source": []
  }
 ],
 "metadata": {
  "kernelspec": {
   "display_name": "Python 3",
   "language": "python",
   "name": "python3"
  },
  "language_info": {
   "codemirror_mode": {
    "name": "ipython",
    "version": 3
   },
   "file_extension": ".py",
   "mimetype": "text/x-python",
   "name": "python",
   "nbconvert_exporter": "python",
   "pygments_lexer": "ipython3",
   "version": "3.11.4"
  }
 },
 "nbformat": 4,
 "nbformat_minor": 2
}
