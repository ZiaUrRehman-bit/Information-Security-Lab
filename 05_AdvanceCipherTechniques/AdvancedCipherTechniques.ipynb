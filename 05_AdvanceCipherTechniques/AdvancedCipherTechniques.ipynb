{
 "cells": [
  {
   "cell_type": "markdown",
   "metadata": {},
   "source": [
    "# Advanced Cipher Techniques"
   ]
  },
  {
   "cell_type": "markdown",
   "metadata": {},
   "source": [
    "# 01. Hill Cipher Encryption and Decryption\n",
    "\n",
    "## **Hill Cipher Overview**\n",
    "The Hill Cipher is a polygraphic substitution cipher that uses linear algebra for encryption. It operates on blocks of letters and utilizes matrix multiplication for its computations.\n",
    "\n",
    "### **Encryption Process**\n",
    "1. **Key Matrix**: Choose a square key matrix (e.g., 2x2 or 3x3) with integer values. Ensure the determinant of the matrix is non-zero and coprime with 26 (for modular arithmetic).\n",
    "2. **Plaintext Preparation**: Convert plaintext into numerical form (A=0, B=1, ..., Z=25). For a matrix of size NxN, pad the plaintext if its length is not a multiple of N.\n",
    "3. **Matrix Multiplication**: Multiply the key matrix with the plaintext vector and take modulo 26 for each resulting element.\n",
    "4. **Ciphertext Conversion**: Convert the resulting numerical values back to letters.\n",
    "\n",
    "---\n",
    "\n",
    "### **Encryption Dry Run**\n",
    "#### Input:\n",
    "- Plaintext: `ZIAURREHMAN`\n",
    "- Key Matrix: \n",
    "   ```\n",
    "  K = |  6  24 |\n",
    "       |  1  13 |\n",
    "  ```\n",
    "- Modulo: 26\n",
    "\n",
    "#### Steps:\n",
    "1. Convert plaintext into numerical values (ignoring spaces):\n",
    "   - Z = 25, I = 8, A = 0, U = 20, R = 17, R = 17, E = 4, H = 7, M = 12, A = 0, N = 13\n",
    "   - Numerical form: `[25, 8, 0, 20, 17, 17, 4, 7, 12, 0, 13]`\n",
    "\n",
    "2. Group into 2x1 column vectors (since the key matrix is 2x2):\n",
    "   ```\n",
    "   [25, 8], [0, 20], [17, 17], [4, 7], [12, 0], [13, 0]\n",
    "   ```\n",
    "\n",
    "3. Multiply each vector by the key matrix and take modulo 26:\n",
    "   - For [25, 8]:\n",
    "     ```\n",
    "     C = (K * P) mod 26 = |  6  24 |   | 25 |\n",
    "                          |  1  13 | * |  8 | mod 26 = |  4 |\n",
    "                                                       | 25 |\n",
    "     ```\n",
    "     Result: `E, Z`\n",
    "   - Repeat for all vectors.\n",
    "\n",
    "4. Resulting Ciphertext:\n",
    "   - Ciphertext: `EZMAQEKRUMGA`\n",
    "\n",
    "---"
   ]
  },
  {
   "cell_type": "markdown",
   "metadata": {},
   "source": [
    "### **Decryption Process**\n",
    "1. **Key Matrix Inverse**: Calculate the inverse of the key matrix modulo 26. The inverse matrix \\(K^{-1}\\) satisfies:\n",
    "   ```\n",
    "   (K * K^{-1}) mod 26 = I\n",
    "   ```\n",
    "   Where \\(I\\) is the identity matrix.\n",
    "\n",
    "2. **Ciphertext Preparation**: Convert the ciphertext into numerical form and group into column vectors.\n",
    "\n",
    "3. **Matrix Multiplication**: Multiply the inverse key matrix by the ciphertext vector and take modulo 26.\n",
    "\n",
    "4. **Plaintext Conversion**: Convert numerical values back to letters.\n",
    "\n",
    "---"
   ]
  },
  {
   "cell_type": "markdown",
   "metadata": {},
   "source": [
    "### **Python Implementation**\n",
    "\n",
    "#### **Encryption Function:**"
   ]
  },
  {
   "cell_type": "code",
   "execution_count": 3,
   "metadata": {},
   "outputs": [
    {
     "name": "stdout",
     "output_type": "stream",
     "text": [
      "Ciphertext: EZMAQEKRUMGA\n"
     ]
    }
   ],
   "source": [
    "import numpy as np\n",
    "\n",
    "def hill_cipher_encrypt(plaintext, key):\n",
    "    alphabet = 'ABCDEFGHIJKLMNOPQRSTUVWXYZ'\n",
    "    plaintext = plaintext.replace(\" \", \"\").upper()\n",
    "    # Convert plaintext to numerical values\n",
    "    plaintext_nums = [alphabet.index(char) for char in plaintext]\n",
    "\n",
    "    # Pad plaintext if necessary\n",
    "    n = key.shape[0]\n",
    "    while len(plaintext_nums) % n != 0:\n",
    "        plaintext_nums.append(alphabet.index('X'))  # Padding with 'X'\n",
    "\n",
    "    # Reshape plaintext into column vectors\n",
    "    plaintext_matrix = np.array(plaintext_nums).reshape(-1, n).T\n",
    "\n",
    "    # Encrypt: Ciphertext = (Key * Plaintext) mod 26\n",
    "    ciphertext_matrix = (np.dot(key, plaintext_matrix) % 26).T\n",
    "\n",
    "    # Convert back to letters\n",
    "    ciphertext = ''.join(alphabet[num] for row in ciphertext_matrix for num in row)\n",
    "    return ciphertext\n",
    "\n",
    "# Example\n",
    "key = np.array([[6, 24], [1, 13]])\n",
    "plaintext = \"ZIAURREHMAN\"\n",
    "ciphertext = hill_cipher_encrypt(plaintext, key)\n",
    "print(\"Ciphertext:\", ciphertext)"
   ]
  },
  {
   "cell_type": "markdown",
   "metadata": {},
   "source": [
    "# 02. Vigenère Cipher\n",
    "\n",
    "## Introduction:\n",
    "The Vigenère Cipher is a method of encrypting text by using a keyword to generate a repeating pattern of shifts. It extends the Caesar cipher by using multiple shifts based on the keyword's letters.\n",
    "\n",
    "## Mathematical Steps:\n",
    "\n",
    "1. Convert plaintext and keyword to numerical values.\n",
    "2. Align the keyword with the plaintext by repeating it as necessary.\n",
    "3. For each letter in the plaintext, shift it by the value of the corresponding keyword letter (modulo 26).\n",
    "\n",
    "## Example:\n",
    "**Plaintext:** \"HELLO\"  \n",
    "**Keyword:** \"KEY\"\n",
    "\n",
    "### Numerical Form:\n",
    "- Plaintext: H = 7, E = 4, L = 11, L = 11, O = 14  \n",
    "- Keyword: K = 10, E = 4, Y = 24 (repeat \"KEY\" if the plaintext is longer)\n",
    "\n",
    "### Encryption Formula:\n",
    "For each letter in the plaintext, we apply the following formula:\n",
    "\n"
   ]
  },
  {
   "cell_type": "markdown",
   "metadata": {},
   "source": [
    "C_i = (P_i + K_i) % 26"
   ]
  },
  {
   "cell_type": "markdown",
   "metadata": {},
   "source": [
    "\n",
    "Where:\n",
    "- `C_i` is the ciphertext letter at position `i`\n",
    "- `P_i` is the plaintext letter at position `i`\n",
    "- `K_i` is the keyword letter at position `i`\n",
    "\n",
    "### Dry Run:\n",
    "\n",
    "- **Plaintext:** \"HELLO\"\n",
    "- **Keyword:** \"KEY\"\n",
    "- **Step 1:** Align the keyword with the plaintext by repeating it:\n",
    "\n",
    "    ```\n",
    "    Plaintext: H  E  L  L  O\n",
    "    Keyword:   K  E  Y  K  E\n",
    "    ```\n",
    "\n",
    "- **Step 2:** Convert the letters to their corresponding numerical values (A=0, B=1, ..., Z=25):\n",
    "\n",
    "    ```\n",
    "    Plaintext: H=7, E=4, L=11, L=11, O=14\n",
    "    Keyword:   K=10, E=4, Y=24, K=10, E=4\n",
    "    ```\n",
    "\n",
    "- **Step 3:** Apply the encryption formula `C_i = (P_i + K_i) % 26`:\n",
    "\n",
    "    - For `H` and `K`:  \n",
    "      `C_1 = (7 + 10) % 26 = 17` → `R`\n",
    "    - For `E` and `E`:  \n",
    "      `C_2 = (4 + 4) % 26 = 8` → `I`\n",
    "    - For `L` and `Y`:  \n",
    "      `C_3 = (11 + 24) % 26 = 9` → `J`\n",
    "    - For `L` and `K`:  \n",
    "      `C_4 = (11 + 10) % 26 = 21` → `V`\n",
    "    - For `O` and `E`:  \n",
    "      `C_5 = (14 + 4) % 26 = 18` → `S`\n",
    "\n",
    "### Final Ciphertext:\n",
    "**Ciphertext:** \"RIJVS\"\n"
   ]
  },
  {
   "cell_type": "code",
   "execution_count": 4,
   "metadata": {},
   "outputs": [
    {
     "name": "stdout",
     "output_type": "stream",
     "text": [
      "Ciphertext: RIJVS\n"
     ]
    }
   ],
   "source": [
    "def vigenere_encrypt(plaintext, keyword):\n",
    "    alphabet = 'ABCDEFGHIJKLMNOPQRSTUVWXYZ'\n",
    "    keyword_repeated = (keyword.upper() * (len(plaintext) // len(keyword) + 1))[:len(plaintext)]\n",
    "    \n",
    "    ciphertext = ''\n",
    "    for p, k in zip(plaintext.upper(), keyword_repeated):\n",
    "        shift = (alphabet.index(p) + alphabet.index(k)) % 26\n",
    "        ciphertext += alphabet[shift]\n",
    "    \n",
    "    return ciphertext\n",
    "\n",
    "# Example\n",
    "plaintext = \"HELLO\"\n",
    "keyword = \"KEY\"\n",
    "ciphertext = vigenere_encrypt(plaintext, keyword)\n",
    "print(\"Ciphertext:\", ciphertext)\n"
   ]
  },
  {
   "cell_type": "markdown",
   "metadata": {},
   "source": [
    "# 03. Rail Fence Cipher\n",
    "\n",
    "## Mathematical Description of Rail Fence Cipher:\n",
    "The Rail Fence Cipher is a transposition cipher where the plaintext is written in a zigzag pattern across multiple rows (rails). Once the text is written in the zigzag pattern, the ciphertext is formed by reading the characters row by row.\n",
    "\n",
    "### Encryption Process:\n",
    "1. Choose the number of rails (rows), denoted as `n`.\n",
    "2. Write the plaintext in a zigzag pattern across the rails.\n",
    "3. Read the ciphertext by concatenating the characters row by row.\n",
    "\n",
    "The number of rails determines how the characters are arranged in the zigzag pattern. For example, if the plaintext is written with 3 rails, the first row contains characters from the first and last parts of the zigzag, while the second row contains characters from the middle parts.\n",
    "\n",
    "### Example (Plaintext: \"HELLO\", Rails: 3):\n",
    "\n",
    "#### Step 1: Write the plaintext in a zigzag pattern across the rails.\n",
    "\n",
    "- First, write the letters of the plaintext diagonally, as shown below:\n",
    "\n",
    "| Rail 1 | H . . . O |\n",
    "|--------|-----------|\n",
    "| Rail 2 | . E . L . |\n",
    "| Rail 3 | . . L . . |\n",
    "\n",
    "#### Step 2: Read the ciphertext by concatenating the characters row by row.\n",
    "\n",
    "- Read each row from left to right:\n",
    "  - Rail 1: \"HO\"\n",
    "  - Rail 2: \"EL\"\n",
    "  - Rail 3: \"L\"\n",
    "\n",
    "#### Step 3: Combine the rows to form the ciphertext:\n",
    "\n",
    "**Ciphertext:** \"HOELL\"\n",
    "\n",
    "---\n",
    "\n",
    "## Python Code for Encryption:"
   ]
  },
  {
   "cell_type": "code",
   "execution_count": 7,
   "metadata": {},
   "outputs": [
    {
     "name": "stdout",
     "output_type": "stream",
     "text": [
      "Ciphertext: HOELL\n"
     ]
    }
   ],
   "source": [
    "# Example plaintext\n",
    "plaintext = \"HELLO\"\n",
    "rails = 3\n",
    "\n",
    "# Encryption function\n",
    "def rail_fence_encrypt(plaintext, rails):\n",
    "    fence = [['' for _ in range(len(plaintext))] for _ in range(rails)]\n",
    "    row, col = 0, 0\n",
    "    direction = 1  # 1 means moving down, -1 means moving up\n",
    "\n",
    "    for char in plaintext:\n",
    "        fence[row][col] = char\n",
    "        col += 1\n",
    "        row += direction\n",
    "\n",
    "        if row == 0 or row == rails - 1:\n",
    "            direction *= -1\n",
    "\n",
    "    ciphertext = ''.join(''.join(row) for row in fence)\n",
    "    return ciphertext\n",
    "\n",
    "# Encrypt the plaintext\n",
    "ciphertext = rail_fence_encrypt(plaintext, rails)\n",
    "print(f\"Ciphertext: {ciphertext}\")\n"
   ]
  },
  {
   "cell_type": "markdown",
   "metadata": {},
   "source": []
  },
  {
   "cell_type": "markdown",
   "metadata": {},
   "source": [
    "# 04. One-Time Pad Cipher\n",
    "\n",
    "## Mathematical Description of the One-Time Pad:\n",
    "The **One-Time Pad (OTP)** is a symmetric-key encryption algorithm that uses a key that is as long as the plaintext. Each character of the plaintext is combined with the corresponding character of the key using modular addition. The key is used only once and then discarded, which is why it is called a \"one-time\" pad. \n",
    "\n",
    "### Encryption Process:\n",
    "For each letter in the plaintext `P` and the corresponding letter in the key `K`, the ciphertext `C` is generated using the following formula:\n",
    "\\[\n",
    "C_i = (P_i + K_i) \\mod 26\n",
    "\\]\n",
    "Where:\n",
    "- \\(P_i\\) is the numerical value of the plaintext letter (0 for 'A', 1 for 'B', ..., 25 for 'Z'),\n",
    "- \\(K_i\\) is the numerical value of the key letter (0 for 'A', 1 for 'B', ..., 25 for 'Z'),\n",
    "- \\(C_i\\) is the resulting ciphertext letter.\n",
    "\n",
    "### Decryption Process:\n",
    "To decrypt the ciphertext, the inverse operation is applied:\n",
    "\\[\n",
    "P_i = (C_i - K_i + 26) \\mod 26\n",
    "\\]\n",
    "This ensures that the plaintext can be recovered from the ciphertext using the same key.\n",
    "\n",
    "### Example (Plaintext: \"HELLO\", Key: \"XMCKL\"):\n",
    "\n",
    "1. **Convert the plaintext and key to numerical values**:\n",
    "   - Plaintext \"HELLO\": H=7, E=4, L=11, L=11, O=14\n",
    "   - Key \"XMCKL\": X=23, M=12, C=2, K=10, L=11\n",
    "\n",
    "2. **Apply the encryption formula**:\n",
    "   - \\(C_1 = (P_1 + K_1) \\mod 26 = (7 + 23) \\mod 26 = 4\\) → 'E'\n",
    "   - \\(C_2 = (P_2 + K_2) \\mod 26 = (4 + 12) \\mod 26 = 16\\) → 'Q'\n",
    "   - \\(C_3 = (P_3 + K_3) \\mod 26 = (11 + 2) \\mod 26 = 13\\) → 'N'\n",
    "   - \\(C_4 = (P_4 + K_4) \\mod 26 = (11 + 10) \\mod 26 = 21\\) → 'V'\n",
    "   - \\(C_5 = (P_5 + K_5) \\mod 26 = (14 + 11) \\mod 26 = 25\\) → 'Z'\n",
    "\n",
    "3. **Resulting ciphertext**: \"EQNVZ\"\n",
    "\n",
    "### Python Code for Encryption:"
   ]
  },
  {
   "cell_type": "code",
   "execution_count": 9,
   "metadata": {},
   "outputs": [
    {
     "name": "stdout",
     "output_type": "stream",
     "text": [
      "Ciphertext: EQNVZ\n"
     ]
    }
   ],
   "source": [
    "def otp_encrypt(plaintext, key):\n",
    "    # Ensure that plaintext and key are the same length\n",
    "    if len(plaintext) != len(key):\n",
    "        raise ValueError(\"Plaintext and key must have the same length.\")\n",
    "    \n",
    "    ciphertext = []\n",
    "    for p_char, k_char in zip(plaintext, key):\n",
    "        # Convert characters to numbers (A=0, B=1, ..., Z=25)\n",
    "        p_val = ord(p_char) - ord('A')\n",
    "        k_val = ord(k_char) - ord('A')\n",
    "        \n",
    "        # Apply the encryption formula\n",
    "        c_val = (p_val + k_val) % 26\n",
    "        \n",
    "        # Convert back to character and append to the ciphertext\n",
    "        ciphertext.append(chr(c_val + ord('A')))\n",
    "    \n",
    "    return ''.join(ciphertext)\n",
    "\n",
    "# Example plaintext and key\n",
    "plaintext = \"HELLO\"\n",
    "key = \"XMCKL\"\n",
    "\n",
    "# Encrypt the plaintext using the One-Time Pad Cipher\n",
    "ciphertext = otp_encrypt(plaintext, key)\n",
    "print(f\"Ciphertext: {ciphertext}\")\n",
    "\n"
   ]
  },
  {
   "cell_type": "markdown",
   "metadata": {},
   "source": [
    "# 05. Data Encryption Standards\n",
    "\n",
    "## Data Encryption Standard (DES)\n",
    "\n",
    "### Mathematical Understanding of DES:\n",
    "The **Data Encryption Standard (DES)** is a symmetric-key algorithm for the encryption of electronic data. It operates on blocks of 64 bits using a 56-bit key. DES follows the Feistel structure, which involves multiple rounds of permutation and substitution. \n",
    "\n",
    "The DES algorithm works as follows:\n",
    "\n",
    "1. **Initial Permutation (IP)**: The 64-bit plaintext is rearranged according to a predefined table called the initial permutation (IP).\n",
    "   \n",
    "2. **Rounds**: The data undergoes 16 rounds of processing. In each round:\n",
    "   - The 64-bit data block is split into two 32-bit halves (L and R).\n",
    "   - A round key (derived from the original key using a key schedule) is applied to the right half of the block.\n",
    "   - A substitution-permutation (S-Box) process is applied to the right half of the data.\n",
    "   - The result is combined with the left half using XOR and swapped for the next round.\n",
    "\n",
    "3. **Final Permutation (FP)**: After 16 rounds, the data is subjected to a final permutation (FP) to get the ciphertext.\n",
    "\n",
    "The inverse operations are used in decryption, with the round keys applied in reverse order.\n",
    "\n",
    "### Encryption Process:\n",
    "- Given a 64-bit plaintext \\( P \\) and a 56-bit key \\( K \\), DES generates 16 round keys.\n",
    "- In each round, data is transformed using the key and S-box substitutions, followed by permutations.\n",
    "\n",
    "### Python Encryption and Decryption (using `pycryptodome` library):"
   ]
  },
  {
   "cell_type": "code",
   "execution_count": 10,
   "metadata": {},
   "outputs": [
    {
     "name": "stdout",
     "output_type": "stream",
     "text": [
      "Ciphertext: cb909929d6979118e2684b2ff4e2119e6e15a86631899d5d\n"
     ]
    }
   ],
   "source": [
    "from Crypto.Cipher import DES\n",
    "from Crypto.Util.Padding import pad, unpad\n",
    "from Crypto.Random import get_random_bytes\n",
    "\n",
    "def des_encrypt(plaintext, key):\n",
    "    cipher = DES.new(key, DES.MODE_CBC)\n",
    "    ciphertext = cipher.encrypt(pad(plaintext.encode(), DES.block_size))\n",
    "    return cipher.iv + ciphertext\n",
    "\n",
    "# Example usage\n",
    "key = get_random_bytes(8)  # 56-bit key (8 bytes)\n",
    "plaintext = \"Hello DES!\"\n",
    "ciphertext = des_encrypt(plaintext, key)\n",
    "print(f\"Ciphertext: {ciphertext.hex()}\")"
   ]
  },
  {
   "cell_type": "code",
   "execution_count": 11,
   "metadata": {},
   "outputs": [
    {
     "name": "stdout",
     "output_type": "stream",
     "text": [
      "Decrypted Text: Hello DES!\n"
     ]
    }
   ],
   "source": [
    "def des_decrypt(ciphertext, key):\n",
    "    iv = ciphertext[:DES.block_size]\n",
    "    cipher = DES.new(key, DES.MODE_CBC, iv)\n",
    "    plaintext = unpad(cipher.decrypt(ciphertext[DES.block_size:]), DES.block_size).decode()\n",
    "    return plaintext\n",
    "\n",
    "# Decrypting the previously encrypted message\n",
    "decrypted_text = des_decrypt(ciphertext, key)\n",
    "print(f\"Decrypted Text: {decrypted_text}\")\n"
   ]
  },
  {
   "cell_type": "markdown",
   "metadata": {},
   "source": [
    "# 06. Advanced Encryption Standard (AES)\n",
    "\n",
    "Mathematical Understanding of AES:\n",
    "\n",
    "The Advanced Encryption Standard (AES) is a symmetric-key algorithm that processes data in blocks of 128 bits using keys of 128, 192, or 256 bits. AES operates using several rounds (10, 12, or 14 rounds depending on the key size) that include substitution (S-box), permutation, and mixing steps.\n",
    "\n",
    "The AES encryption process consists of four main stages in each round (except the last round):\n",
    "\n",
    "- SubBytes: Each byte of the data block is substituted using an S-box.\n",
    "- ShiftRows: Rows of the data are shifted by different offsets.\n",
    "- MixColumns: The columns of the data matrix are mixed using a matrix multiplication.\n",
    "- AddRoundKey: The round key is XORed with the data.\n",
    "- The key expansion algorithm is used to generate the round keys from the original key.\n",
    "\n",
    "### Encryption Process:\n",
    "\n",
    "Given a 128-bit block of plaintext and a key (either 128, 192, or 256 bits), AES performs several rounds of substitution, permutation, and mixing operations, depending on the key length.\n",
    "\n",
    "### Python Encryption and Decryption (using pycryptodome library):"
   ]
  },
  {
   "cell_type": "code",
   "execution_count": 12,
   "metadata": {},
   "outputs": [
    {
     "name": "stdout",
     "output_type": "stream",
     "text": [
      "Ciphertext: ed01ba1c4277992a022af23ec3f6b2471cb7d9e73861492bc1dc9c4c041214f9\n"
     ]
    }
   ],
   "source": [
    "from Crypto.Cipher import AES\n",
    "from Crypto.Util.Padding import pad\n",
    "from Crypto.Random import get_random_bytes\n",
    "\n",
    "def aes_encrypt(plaintext, key):\n",
    "    cipher = AES.new(key, AES.MODE_CBC)\n",
    "    ciphertext = cipher.encrypt(pad(plaintext.encode(), AES.block_size))\n",
    "    return cipher.iv + ciphertext\n",
    "\n",
    "# Example usage\n",
    "key = get_random_bytes(16)  # 128-bit key (16 bytes)\n",
    "plaintext = \"Hello AES!\"\n",
    "ciphertext = aes_encrypt(plaintext, key)\n",
    "print(f\"Ciphertext: {ciphertext.hex()}\")\n"
   ]
  },
  {
   "cell_type": "markdown",
   "metadata": {},
   "source": []
  },
  {
   "cell_type": "code",
   "execution_count": 13,
   "metadata": {},
   "outputs": [
    {
     "name": "stdout",
     "output_type": "stream",
     "text": [
      "Decrypted Text: Hello AES!\n"
     ]
    }
   ],
   "source": [
    "from Crypto.Util.Padding import unpad\n",
    "\n",
    "def aes_decrypt(ciphertext, key):\n",
    "    iv = ciphertext[:AES.block_size]\n",
    "    cipher = AES.new(key, AES.MODE_CBC, iv)\n",
    "    plaintext = unpad(cipher.decrypt(ciphertext[AES.block_size:]), AES.block_size).decode()\n",
    "    return plaintext\n",
    "\n",
    "# Decrypting the previously encrypted message\n",
    "decrypted_text = aes_decrypt(ciphertext, key)\n",
    "print(f\"Decrypted Text: {decrypted_text}\")\n"
   ]
  },
  {
   "cell_type": "code",
   "execution_count": null,
   "metadata": {},
   "outputs": [],
   "source": []
  }
 ],
 "metadata": {
  "kernelspec": {
   "display_name": "Python 3",
   "language": "python",
   "name": "python3"
  },
  "language_info": {
   "codemirror_mode": {
    "name": "ipython",
    "version": 3
   },
   "file_extension": ".py",
   "mimetype": "text/x-python",
   "name": "python",
   "nbconvert_exporter": "python",
   "pygments_lexer": "ipython3",
   "version": "3.11.4"
  }
 },
 "nbformat": 4,
 "nbformat_minor": 2
}
